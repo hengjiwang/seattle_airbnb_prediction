{
 "cells": [
  {
   "cell_type": "markdown",
   "metadata": {},
   "source": [
    "# Build models"
   ]
  },
  {
   "cell_type": "code",
   "execution_count": 1,
   "metadata": {
    "ExecuteTime": {
     "end_time": "2019-06-16T05:39:23.533574Z",
     "start_time": "2019-06-16T05:39:21.755190Z"
    }
   },
   "outputs": [
    {
     "name": "stderr",
     "output_type": "stream",
     "text": [
      "/anaconda3/lib/python3.6/site-packages/sklearn/ensemble/weight_boosting.py:29: DeprecationWarning: numpy.core.umath_tests is an internal NumPy module and should not be imported. It will be removed in a future NumPy release.\n",
      "  from numpy.core.umath_tests import inner1d\n"
     ]
    }
   ],
   "source": [
    "import numpy as np\n",
    "import pandas as pd\n",
    "import matplotlib.pyplot as plt\n",
    "from sklearn.ensemble import RandomForestRegressor\n",
    "import xgboost as xgb\n",
    "from sklearn.model_selection import GridSearchCV\n",
    "import sklearn.metrics as metrics"
   ]
  },
  {
   "cell_type": "markdown",
   "metadata": {},
   "source": [
    "## Separate training and test datasets"
   ]
  },
  {
   "cell_type": "code",
   "execution_count": 2,
   "metadata": {
    "ExecuteTime": {
     "end_time": "2019-06-16T05:41:01.946115Z",
     "start_time": "2019-06-16T05:39:23.560072Z"
    }
   },
   "outputs": [
    {
     "data": {
      "text/plain": [
       "(3651248, 201)"
      ]
     },
     "execution_count": 2,
     "metadata": {},
     "output_type": "execute_result"
    }
   ],
   "source": [
    "# Load dataset\n",
    "dataset = pd.read_csv('../save/data_bc_fisrt_addattr_scraped_alldates.csv')\n",
    "dataset.shape"
   ]
  },
  {
   "cell_type": "code",
   "execution_count": 8,
   "metadata": {},
   "outputs": [],
   "source": [
    "# Separate training and test data\n",
    "ids = dataset.id.unique()\n",
    "np.random.shuffle(ids)\n",
    "ids_train = ids[:int(0.8 * len(ids))]\n",
    "ids_test = ids[int(0.8 * len(ids)):]\n",
    "dataset_train = dataset[dataset['id'].isin(ids_train)].drop(columns='id')\n",
    "dataset_test = dataset[dataset['id'].isin(ids_test)].drop(columns='id')"
   ]
  },
  {
   "cell_type": "code",
   "execution_count": null,
   "metadata": {},
   "outputs": [],
   "source": [
    "# Get features and target\n",
    "x_train = dataset_train.drop(columns = 'price').values\n",
    "y_train = np.log(dataset_train['price'].values)\n",
    "\n",
    "x_test = dataset_test.drop(columns = 'price').values\n",
    "y_test = np.log(dataset_test['price'].values)"
   ]
  },
  {
   "cell_type": "markdown",
   "metadata": {},
   "source": [
    "## Train models"
   ]
  },
  {
   "cell_type": "markdown",
   "metadata": {},
   "source": [
    "### - Random Forest"
   ]
  },
  {
   "cell_type": "code",
   "execution_count": 112,
   "metadata": {},
   "outputs": [
    {
     "data": {
      "text/plain": [
       "0.6827007325236853"
      ]
     },
     "execution_count": 112,
     "metadata": {},
     "output_type": "execute_result"
    }
   ],
   "source": [
    "# Without cross-validation\n",
    "rf = RandomForestRegressor(n_estimators = 20)\n",
    "rf.fit(x_train, y_train)\n",
    "rf.score(x_test, y_test)"
   ]
  },
  {
   "cell_type": "code",
   "execution_count": null,
   "metadata": {},
   "outputs": [],
   "source": [
    "# Cross-validation\n",
    "rf = RandomForestRegressor(n_estimators = 20, max_features = 0.8)\n",
    "\n",
    "param_grid = {'min_samples_leaf': [2, 5, 8, 12]}\n",
    "\n",
    "cv = GridSearchCV(rf, param_grid, cv = 5)\n",
    "cv.fit(x_train, y_train)\n",
    "cv.best_estimator_"
   ]
  },
  {
   "cell_type": "code",
   "execution_count": 27,
   "metadata": {},
   "outputs": [
    {
     "data": {
      "text/plain": [
       "RandomForestRegressor(bootstrap=True, criterion='mse', max_depth=None,\n",
       "           max_features='auto', max_leaf_nodes=None,\n",
       "           min_impurity_decrease=0.0, min_impurity_split=None,\n",
       "           min_samples_leaf=1, min_samples_split=2,\n",
       "           min_weight_fraction_leaf=0.0, n_estimators=10, n_jobs=None,\n",
       "           oob_score=False, random_state=None, verbose=0, warm_start=False)"
      ]
     },
     "execution_count": 27,
     "metadata": {},
     "output_type": "execute_result"
    }
   ],
   "source": [
    "# Training \n",
    "rf_optm = RandomForestRegressor()\n",
    "rf_optm.fit(x_train, y_train)\n",
    "\n",
    "# Test\n",
    "rf_optm.score(x_test, y_test)\n",
    "y_predict = rf_optm.predict(x_test)\n",
    "error = metrics.median_absolute_error(y_test, y_predict)"
   ]
  },
  {
   "cell_type": "code",
   "execution_count": 29,
   "metadata": {},
   "outputs": [
    {
     "data": {
      "text/plain": [
       "27.294618271352974"
      ]
     },
     "execution_count": 29,
     "metadata": {},
     "output_type": "execute_result"
    }
   ],
   "source": [
    "metrics.median_absolute_error(y_test, np.exp(prediction))"
   ]
  },
  {
   "cell_type": "markdown",
   "metadata": {},
   "source": [
    "### - XGBoost"
   ]
  },
  {
   "cell_type": "code",
   "execution_count": null,
   "metadata": {},
   "outputs": [],
   "source": [
    "# dtrain = xgb.DMatrix('./data/agaricus.txt.train')\n",
    "# dtest = xgb.DMatrix('./data/agaricus.txt.test')\n",
    "dtrain = xgb.DMatrix(x_train[:], label=y_train)\n",
    "dtest = xgb.DMatrix(x_test[:], label=y_test)\n",
    "# specify parameters via map\n",
    "param = {'max_depth':15, 'eta':0.3, 'lambda':1, \n",
    "         'silent':1, 'objective':'reg:linear', \n",
    "         #'tree_method':'gpu_hist', \n",
    "         'eval_metric':'rmse'}\n",
    "num_round = 20\n",
    "bst = xgb.train(param, dtrain, num_round)\n",
    "# make prediction\n",
    "preds = bst.predict(dtest)"
   ]
  },
  {
   "cell_type": "code",
   "execution_count": null,
   "metadata": {},
   "outputs": [],
   "source": [
    "metrics.median_absolute_error(np.exp(y_test), np.exp(preds))"
   ]
  },
  {
   "cell_type": "code",
   "execution_count": null,
   "metadata": {},
   "outputs": [],
   "source": [
    "ax = xgb.plot_importance(bst, max_num_features = 20)"
   ]
  },
  {
   "cell_type": "code",
   "execution_count": null,
   "metadata": {},
   "outputs": [],
   "source": [
    "impfeatures = [int(str(x).split('\\'')[1][1:]) for x in ax.get_yticklabels()]\n",
    "impfeatures.reverse()\n",
    "cols = list(dataset_train.columns.values)\n",
    "cols.remove('price')\n",
    "for i in impfeatures: print(i,cols[i])"
   ]
  },
  {
   "cell_type": "markdown",
   "metadata": {},
   "source": [
    "### - GBDT"
   ]
  },
  {
   "cell_type": "code",
   "execution_count": 68,
   "metadata": {},
   "outputs": [
    {
     "data": {
      "text/plain": [
       "array(['host_since', 'latitude', 'longitude', 'accommodates', 'bathrooms',\n",
       "       'bedrooms', 'beds', 'cleaning_fee', 'guests_included',\n",
       "       'extra_people', 'availability_30', 'availability_60',\n",
       "       'availability_90', 'availability_365', 'first_review',\n",
       "       'last_review', 'minimum_nights', 'maximum_nights',\n",
       "       'number_of_reviews', 'Adams', 'Alki', 'Arbor Heights', 'Atlantic',\n",
       "       'Belltown', 'Bitter Lake', 'Briarcliff', 'Brighton', 'Broadview',\n",
       "       'Broadway', 'Bryant', 'Cedar Park', 'Central Business District',\n",
       "       'Columbia City', 'Crown Hill', 'Dunlap', 'East Queen Anne',\n",
       "       'Eastlake', 'Fairmount Park', 'Fauntleroy', 'First Hill',\n",
       "       'Fremont', 'Gatewood', 'Genesee', 'Georgetown', 'Green Lake',\n",
       "       'Greenwood', 'Haller Lake', 'Harrison/Denny-Blaine', 'High Point',\n",
       "       'Highland Park', 'Holly Park', 'Industrial District', 'Interbay',\n",
       "       'International District', 'Laurelhurst', 'Lawton Park', 'Leschi',\n",
       "       'Lower Queen Anne', 'Loyal Heights', 'Madison Park', 'Madrona',\n",
       "       'Mann', 'Maple Leaf', 'Matthews Beach', 'Meadowbrook',\n",
       "       'Mid-Beacon Hill', 'Minor', 'Montlake', 'Mount Baker',\n",
       "       'North Admiral', 'North Beach/Blue Ridge', 'North Beacon Hill',\n",
       "       'North College Park', 'North Delridge', 'North Queen Anne',\n",
       "       'Olympic Hills', 'Phinney Ridge', 'Pike-Market', 'Pinehurst',\n",
       "       'Pioneer Square', 'Portage Bay', 'Rainier Beach', 'Rainier View',\n",
       "       'Ravenna', 'Riverview', 'Roosevelt', 'Roxhill', 'Seaview',\n",
       "       'Seward Park', 'South Beacon Hill', 'South Delridge',\n",
       "       'South Lake Union', 'South Park', 'Southeast Magnolia', 'Stevens',\n",
       "       'Sunset Hill', 'University District', 'Victory Heights',\n",
       "       'View Ridge', 'Wallingford', 'Wedgwood', 'West Queen Anne',\n",
       "       'West Woodland', 'Westlake', 'Whittier Heights', 'Windermere',\n",
       "       'Yesler Terrace', 'Aparthotel', 'Apartment', 'Bed and breakfast',\n",
       "       'Boat', 'Boutique hotel', 'Bungalow', 'Cabin', 'Camper/RV',\n",
       "       'Castle', 'Condominium', 'Cottage', 'Guest suite', 'Guesthouse',\n",
       "       'Hostel', 'Hotel', 'House', 'Houseboat', 'Hut', 'In-law',\n",
       "       'Lighthouse', 'Loft', 'Other', 'Serviced apartment', 'Tent',\n",
       "       'Tiny house', 'Townhouse', 'Treehouse', 'Villa', 'Entire home/apt',\n",
       "       'Private room', 'Shared room', 'Airbed', 'Couch', 'Futon',\n",
       "       'Pull-out Sofa', 'Real Bed', '2.0', '3.0', '4.0', '5.0', '6.0',\n",
       "       '7.0', '8.0', '9.0', '10.0', 'No Review', 'flexible', 'moderate',\n",
       "       'strict', 'strict_14_with_grace_period', 'super_strict_30',\n",
       "       'super_strict_60', 'Wifi', 'Essentials', 'Heating',\n",
       "       'Smoke detector', 'Shampoo', 'Kitchen', 'Hangers', 'Hair dryer',\n",
       "       'Carbon monoxide detector', 'Washer', 'Dryer',\n",
       "       'Laptop friendly workspace', 'TV', 'Iron', 'Fire extinguisher',\n",
       "       'Hot water', 'Self check-in', 'First aid kit',\n",
       "       'Family/kid friendly', 'Free parking on premises', 'polarity',\n",
       "       'subjectivity', 'price'], dtype=object)"
      ]
     },
     "execution_count": 68,
     "metadata": {},
     "output_type": "execute_result"
    }
   ],
   "source": [
    "dataset_train.columns.values"
   ]
  },
  {
   "cell_type": "code",
   "execution_count": 21,
   "metadata": {},
   "outputs": [
    {
     "data": {
      "text/plain": [
       "13.736984342210164"
      ]
     },
     "execution_count": 21,
     "metadata": {},
     "output_type": "execute_result"
    }
   ],
   "source": [
    "max(dataset_train[dataset_train.columns.values[7]])"
   ]
  },
  {
   "cell_type": "code",
   "execution_count": 44,
   "metadata": {},
   "outputs": [
    {
     "data": {
      "text/plain": [
       "(array([819176.,      0.,      0.,      0.,      0.,      0.,      0.,\n",
       "             0.,      0.,      0.,      0.,      0.,      0.,      0.,\n",
       "             0.,      0.,      0.,      0.,      0.,      0.,      0.,\n",
       "             0.,      0.,      0.,      0.,      0.,      0.,      0.,\n",
       "             0.,      0.,      0.,      0.,      0.,      0.,      0.,\n",
       "             0.,      0.,      0.,      0.,      0.,      0.,      0.,\n",
       "             0.,      0.,      0.,      0.,      0.,      0.,      0.,\n",
       "             0.,      0.,      0.,      0.,      0.,      0.,      0.,\n",
       "             0.,      0.,      0.,      0.,      0.,      0.,      0.,\n",
       "             0.,      0.,      0.,      0.,      0.,      0.,      0.,\n",
       "             0.,      0.,      0.,      0.,      0.,      0.,      0.,\n",
       "             0.,      0.,      0.,      0.,      0.,      0.,      0.,\n",
       "             0.,      0.,      0.,      0.,      0.,      0.,      0.,\n",
       "             0.,      0.,      0.,      0.,      0.,      0.,      0.,\n",
       "             0., 142693.]),\n",
       " array([0.  , 0.01, 0.02, 0.03, 0.04, 0.05, 0.06, 0.07, 0.08, 0.09, 0.1 ,\n",
       "        0.11, 0.12, 0.13, 0.14, 0.15, 0.16, 0.17, 0.18, 0.19, 0.2 , 0.21,\n",
       "        0.22, 0.23, 0.24, 0.25, 0.26, 0.27, 0.28, 0.29, 0.3 , 0.31, 0.32,\n",
       "        0.33, 0.34, 0.35, 0.36, 0.37, 0.38, 0.39, 0.4 , 0.41, 0.42, 0.43,\n",
       "        0.44, 0.45, 0.46, 0.47, 0.48, 0.49, 0.5 , 0.51, 0.52, 0.53, 0.54,\n",
       "        0.55, 0.56, 0.57, 0.58, 0.59, 0.6 , 0.61, 0.62, 0.63, 0.64, 0.65,\n",
       "        0.66, 0.67, 0.68, 0.69, 0.7 , 0.71, 0.72, 0.73, 0.74, 0.75, 0.76,\n",
       "        0.77, 0.78, 0.79, 0.8 , 0.81, 0.82, 0.83, 0.84, 0.85, 0.86, 0.87,\n",
       "        0.88, 0.89, 0.9 , 0.91, 0.92, 0.93, 0.94, 0.95, 0.96, 0.97, 0.98,\n",
       "        0.99, 1.  ]),\n",
       " <a list of 100 Patch objects>)"
      ]
     },
     "execution_count": 44,
     "metadata": {},
     "output_type": "execute_result"
    },
    {
     "data": {
      "image/png": "[encoded data removed]",
      "text/plain": [
       "<Figure size 432x288 with 1 Axes>"
      ]
     },
     "metadata": {
      "needs_background": "light"
     },
     "output_type": "display_data"
    }
   ],
   "source": [
    "plt.hist(dataset_train[dataset_train.columns.values[197]],  bins=100)"
   ]
  },
  {
   "cell_type": "code",
   "execution_count": null,
   "metadata": {},
   "outputs": [],
   "source": []
  }
 ],
 "metadata": {
  "kernelspec": {
   "display_name": "Python 3",
   "language": "python",
   "name": "python3"
  },
  "language_info": {
   "codemirror_mode": {
    "name": "ipython",
    "version": 3
   },
   "file_extension": ".py",
   "mimetype": "text/x-python",
   "name": "python",
   "nbconvert_exporter": "python",
   "pygments_lexer": "ipython3",
   "version": "3.6.8"
  },
  "varInspector": {
   "cols": {
    "lenName": 16,
    "lenType": 16,
    "lenVar": 40
   },
   "kernels_config": {
    "python": {
     "delete_cmd_postfix": "",
     "delete_cmd_prefix": "del ",
     "library": "var_list.py",
     "varRefreshCmd": "print(var_dic_list())"
    },
    "r": {
     "delete_cmd_postfix": ") ",
     "delete_cmd_prefix": "rm(",
     "library": "var_list.r",
     "varRefreshCmd": "cat(var_dic_list()) "
    }
   },
   "types_to_exclude": [
    "module",
    "function",
    "builtin_function_or_method",
    "instance",
    "_Feature"
   ],
   "window_display": false
  }
 },
 "nbformat": 4,
 "nbformat_minor": 2
}
