{
 "cells": [
  {
   "cell_type": "code",
   "execution_count": 3,
   "metadata": {
    "ExecuteTime": {
     "end_time": "2019-05-26T19:12:55.997059Z",
     "start_time": "2019-05-26T19:12:55.992547Z"
    }
   },
   "outputs": [],
   "source": [
    "import pandas as pd\n",
    "import numpy as np\n",
    "import os\n",
    "import matplotlib.pyplot as plt\n",
    "import matplotlib.dates as mdates\n",
    "from matplotlib.dates import MO, TU, WE, TH, FR, SA, SU"
   ]
  },
  {
   "cell_type": "code",
   "execution_count": 2,
   "metadata": {
    "ExecuteTime": {
     "end_time": "2019-05-26T19:11:53.192190Z",
     "start_time": "2019-05-26T19:11:53.186754Z"
    }
   },
   "outputs": [],
   "source": [
    "def clean_calendar(fl):\n",
    "    \"\"\"\n",
    "    read a file in csv format, fl is filename\n",
    "    drop NaN rows and 'available' column\n",
    "    change price from $1,200 to 1200(float)\n",
    "    change the type of date\n",
    "    return a cleaned dataframe with listing_id, date and price\n",
    "    \"\"\"\n",
    "    df = pd.read_csv(fl).dropna().drop(columns='available').reset_index(drop=True)\n",
    "    df = df[['listing_id','date','price']] #only keep these three columns\n",
    "    df['price'] =  df['price'].apply(lambda x: x.replace('$','').replace(',','')).astype('float')   \n",
    "    df['date'] = pd.to_datetime(df['date'])\n",
    "    return df"
   ]
  },
  {
   "cell_type": "code",
   "execution_count": 24,
   "metadata": {
    "ExecuteTime": {
     "end_time": "2019-05-26T19:25:37.134978Z",
     "start_time": "2019-05-26T19:25:37.131215Z"
    }
   },
   "outputs": [],
   "source": [
    "def merge_calendars(folders):\n",
    "    \"\"\"\n",
    "    merge all calendars together; if listings have the same id and date, keep the highest price\n",
    "    \"\"\"\n",
    "    df = clean_calendar('../data/'+folders[0]+'/calendar.csv')\n",
    "    for f in folders[1:]:\n",
    "        df = pd.concat([df,clean_calendar('../data/'+f+'/calendar.csv')],ignore_index=True)\n",
    "    df = df.groupby(by=['listing_id','date'])['price'].max().reset_index()\n",
    "    return df\n",
    "    "
   ]
  },
  {
   "cell_type": "code",
   "execution_count": 28,
   "metadata": {
    "ExecuteTime": {
     "end_time": "2019-05-26T20:09:52.035704Z",
     "start_time": "2019-05-26T20:09:14.200840Z"
    }
   },
   "outputs": [],
   "source": [
    "if __name__=='__main__':\n",
    "    folders = [x for x in os.listdir('../data/')]\n",
    "    df = merge_calendars(folders)"
   ]
  },
  {
   "cell_type": "code",
   "execution_count": null,
   "metadata": {},
   "outputs": [],
   "source": []
  }
 ],
 "metadata": {
  "kernelspec": {
   "display_name": "Python 3",
   "language": "python",
   "name": "python3"
  },
  "language_info": {
   "codemirror_mode": {
    "name": "ipython",
    "version": 3
   },
   "file_extension": ".py",
   "mimetype": "text/x-python",
   "name": "python",
   "nbconvert_exporter": "python",
   "pygments_lexer": "ipython3",
   "version": "3.6.8"
  },
  "varInspector": {
   "cols": {
    "lenName": 16,
    "lenType": 16,
    "lenVar": 40
   },
   "kernels_config": {
    "python": {
     "delete_cmd_postfix": "",
     "delete_cmd_prefix": "del ",
     "library": "var_list.py",
     "varRefreshCmd": "print(var_dic_list())"
    },
    "r": {
     "delete_cmd_postfix": ") ",
     "delete_cmd_prefix": "rm(",
     "library": "var_list.r",
     "varRefreshCmd": "cat(var_dic_list()) "
    }
   },
   "types_to_exclude": [
    "module",
    "function",
    "builtin_function_or_method",
    "instance",
    "_Feature"
   ],
   "window_display": false
  }
 },
 "nbformat": 4,
 "nbformat_minor": 2
}
