{
 "cells": [
  {
   "cell_type": "markdown",
   "metadata": {},
   "source": [
    "# 1. Listings information preprocessing"
   ]
  },
  {
   "cell_type": "code",
   "execution_count": 2,
   "metadata": {
    "ExecuteTime": {
     "end_time": "2019-05-07T04:17:11.188056Z",
     "start_time": "2019-05-07T04:17:08.380789Z"
    }
   },
   "outputs": [],
   "source": [
    "import pandas as pd\n",
    "import numpy as np\n",
    "import matplotlib.pyplot as plt\n",
    "import re, collections"
   ]
  },
  {
   "cell_type": "markdown",
   "metadata": {},
   "source": [
    "## 1.1 Touch data"
   ]
  },
  {
   "cell_type": "markdown",
   "metadata": {},
   "source": [
    "### Load listings data"
   ]
  },
  {
   "cell_type": "code",
   "execution_count": 31,
   "metadata": {
    "ExecuteTime": {
     "end_time": "2019-05-07T04:22:48.369287Z",
     "start_time": "2019-05-07T04:22:47.621856Z"
    }
   },
   "outputs": [],
   "source": [
    "raw_listings = pd.read_csv('../data/2018_04_14/listings.csv', low_memory=False)"
   ]
  },
  {
   "cell_type": "markdown",
   "metadata": {},
   "source": [
    "### Show attributes"
   ]
  },
  {
   "cell_type": "code",
   "execution_count": 32,
   "metadata": {
    "ExecuteTime": {
     "end_time": "2019-05-07T04:22:49.953615Z",
     "start_time": "2019-05-07T04:22:49.945085Z"
    },
    "scrolled": true
   },
   "outputs": [],
   "source": [
    "attributes = [(i, raw_listings.columns[i]) for i in range(len(raw_listings.columns))]\n",
    "# for j in range(len(attributes)): print(attributes[j])"
   ]
  },
  {
   "cell_type": "code",
   "execution_count": 35,
   "metadata": {
    "ExecuteTime": {
     "end_time": "2019-05-07T04:22:55.995031Z",
     "start_time": "2019-05-07T04:22:55.992331Z"
    }
   },
   "outputs": [
    {
     "data": {
      "text/plain": [
       "['id',\n",
       " 'host_since',\n",
       " 'neighbourhood_cleansed',\n",
       " 'property_type',\n",
       " 'room_type',\n",
       " 'accommodates',\n",
       " 'bathrooms',\n",
       " 'bedrooms',\n",
       " 'beds',\n",
       " 'bed_type',\n",
       " 'amenities',\n",
       " 'price',\n",
       " 'minimum_nights',\n",
       " 'maximum_nights',\n",
       " 'number_of_reviews',\n",
       " 'review_scores_accuracy',\n",
       " 'cancellation_policy']"
      ]
     },
     "execution_count": 35,
     "metadata": {},
     "output_type": "execute_result"
    }
   ],
   "source": [
    "list_info"
   ]
  },
  {
   "cell_type": "markdown",
   "metadata": {},
   "source": [
    "## 1.2 Clean listing information"
   ]
  },
  {
   "cell_type": "markdown",
   "metadata": {
    "ExecuteTime": {
     "end_time": "2019-04-30T05:21:30.465626Z",
     "start_time": "2019-04-30T05:21:30.461762Z"
    }
   },
   "source": [
    "### Pick listings information columns"
   ]
  },
  {
   "cell_type": "code",
   "execution_count": 36,
   "metadata": {
    "ExecuteTime": {
     "end_time": "2019-05-07T04:23:25.682633Z",
     "start_time": "2019-05-07T04:23:25.673414Z"
    }
   },
   "outputs": [],
   "source": [
    "# list_info = [v[1] for v in attributes if v[0] in list_info_indices]\n",
    "\n",
    "list_info = ['id',\n",
    " 'host_since',\n",
    " 'neighbourhood_cleansed',\n",
    " 'property_type',\n",
    " 'room_type',\n",
    " 'accommodates',\n",
    " 'bathrooms',\n",
    " 'bedrooms',\n",
    " 'beds',\n",
    " 'bed_type',\n",
    " 'amenities',\n",
    " 'price',\n",
    " 'minimum_nights',\n",
    " 'maximum_nights',\n",
    " 'number_of_reviews',\n",
    " 'review_scores_accuracy',\n",
    " 'cancellation_policy']\n",
    "\n",
    "# for v in (list_info): print(v)"
   ]
  },
  {
   "cell_type": "code",
   "execution_count": 37,
   "metadata": {
    "ExecuteTime": {
     "end_time": "2019-05-07T04:23:26.360663Z",
     "start_time": "2019-05-07T04:23:26.345706Z"
    }
   },
   "outputs": [],
   "source": [
    "listings = raw_listings[list_info].copy()"
   ]
  },
  {
   "cell_type": "markdown",
   "metadata": {},
   "source": [
    "### Prune the listings that lack significant listing information"
   ]
  },
  {
   "cell_type": "code",
   "execution_count": 38,
   "metadata": {
    "ExecuteTime": {
     "end_time": "2019-05-07T04:23:27.525969Z",
     "start_time": "2019-05-07T04:23:27.515493Z"
    }
   },
   "outputs": [],
   "source": [
    "listings['price'] = (listings['price'].str.replace(r'[^-+\\d.]', '').astype(float))"
   ]
  },
  {
   "cell_type": "code",
   "execution_count": 39,
   "metadata": {
    "ExecuteTime": {
     "end_time": "2019-05-07T04:23:27.903076Z",
     "start_time": "2019-05-07T04:23:27.874163Z"
    }
   },
   "outputs": [],
   "source": [
    "listings = listings.dropna(how = 'any', subset = ['id', 'property_type', 'neighbourhood_cleansed', 'bathrooms', \\\n",
    "                                              'bathrooms', 'beds', 'price'])\n",
    "listings = listings[listings['beds']!=0]\n",
    "listings = listings[listings['bedrooms']!=0]\n",
    "listings = listings[listings['bathrooms']!=0]\n",
    "listings = listings[listings['price']!=0]\n",
    "listings = listings[listings['accommodates']!=0]\n",
    "listings = listings.reset_index(drop=True)"
   ]
  },
  {
   "cell_type": "code",
   "execution_count": 40,
   "metadata": {
    "ExecuteTime": {
     "end_time": "2019-05-07T04:23:28.288596Z",
     "start_time": "2019-05-07T04:23:28.283243Z"
    }
   },
   "outputs": [],
   "source": [
    "id_left = listings.id"
   ]
  },
  {
   "cell_type": "markdown",
   "metadata": {},
   "source": [
    "## 1.3 Extract features from listings information"
   ]
  },
  {
   "cell_type": "markdown",
   "metadata": {},
   "source": [
    "### Encode categorical attributes"
   ]
  },
  {
   "cell_type": "code",
   "execution_count": 41,
   "metadata": {
    "ExecuteTime": {
     "end_time": "2019-05-07T04:23:29.870373Z",
     "start_time": "2019-05-07T04:23:29.158387Z"
    }
   },
   "outputs": [],
   "source": [
    "for i in range(len(listings)):\n",
    "    if listings.loc[i, 'review_scores_accuracy'] != listings.loc[i, 'review_scores_accuracy']:\n",
    "        listings.loc[i, 'review_scores_accuracy'] = 'No Review'"
   ]
  },
  {
   "cell_type": "code",
   "execution_count": null,
   "metadata": {
    "ExecuteTime": {
     "end_time": "2019-05-07T04:18:11.343382Z",
     "start_time": "2019-05-07T04:18:10.815Z"
    }
   },
   "outputs": [],
   "source": [
    "categorical_attributes = ['neighbourhood_cleansed', \n",
    "                          'property_type',\n",
    "                          'room_type',\n",
    "                          'bed_type',\n",
    "                          'review_scores_accuracy',\n",
    "                          'cancellation_policy']"
   ]
  },
  {
   "cell_type": "code",
   "execution_count": 69,
   "metadata": {
    "ExecuteTime": {
     "end_time": "2019-05-02T04:10:37.062931Z",
     "start_time": "2019-05-02T04:10:37.026984Z"
    }
   },
   "outputs": [],
   "source": [
    "for attr in categorical_attributes:\n",
    "    encoded_cols = pd.get_dummies(listings[attr])\n",
    "    listings = pd.concat((listings.drop(attr, axis = 1), encoded_cols), axis = 1)"
   ]
  },
  {
   "cell_type": "markdown",
   "metadata": {
    "ExecuteTime": {
     "end_time": "2019-05-01T03:11:58.777796Z",
     "start_time": "2019-05-01T03:11:58.742806Z"
    }
   },
   "source": [
    "### Encode non-categorical attributes"
   ]
  },
  {
   "cell_type": "code",
   "execution_count": 70,
   "metadata": {
    "ExecuteTime": {
     "end_time": "2019-05-02T04:10:39.090563Z",
     "start_time": "2019-05-02T04:10:39.088180Z"
    }
   },
   "outputs": [],
   "source": [
    "def standardize(col):\n",
    "    mean = np.mean(col)\n",
    "    std = np.std(col)\n",
    "    return col.apply(lambda x: (x - mean) / std)"
   ]
  },
  {
   "cell_type": "code",
   "execution_count": 71,
   "metadata": {
    "ExecuteTime": {
     "end_time": "2019-05-02T04:10:39.339221Z",
     "start_time": "2019-05-02T04:10:39.336289Z"
    }
   },
   "outputs": [],
   "source": [
    "noncategorical_attributes = ['host_since', 'accommodates', \n",
    "                             'bedrooms', 'beds', 'bathrooms', 'number_of_reviews',\n",
    "                            'minimum_nights', 'maximum_nights']"
   ]
  },
  {
   "cell_type": "code",
   "execution_count": 72,
   "metadata": {
    "ExecuteTime": {
     "end_time": "2019-05-02T04:10:39.747793Z",
     "start_time": "2019-05-02T04:10:39.710180Z"
    },
    "scrolled": true
   },
   "outputs": [],
   "source": [
    "for attr in noncategorical_attributes:\n",
    "    if attr == 'host_since':\n",
    "        listings[attr] = standardize(listings[attr].str.replace(r'-', '').astype(float))\n",
    "    else:\n",
    "        listings[attr] = standardize(listings[attr].astype(float))"
   ]
  },
  {
   "cell_type": "markdown",
   "metadata": {
    "ExecuteTime": {
     "end_time": "2019-05-01T05:15:57.362984Z",
     "start_time": "2019-05-01T05:15:57.305029Z"
    }
   },
   "source": [
    "## 1.4 Extract features from amenities"
   ]
  },
  {
   "cell_type": "markdown",
   "metadata": {},
   "source": [
    "### Count the words frequency"
   ]
  },
  {
   "cell_type": "code",
   "execution_count": 73,
   "metadata": {
    "ExecuteTime": {
     "end_time": "2019-05-02T04:10:41.719271Z",
     "start_time": "2019-05-02T04:10:41.717067Z"
    }
   },
   "outputs": [],
   "source": [
    "numa = 20"
   ]
  },
  {
   "cell_type": "code",
   "execution_count": 74,
   "metadata": {
    "ExecuteTime": {
     "end_time": "2019-05-02T04:10:42.217319Z",
     "start_time": "2019-05-02T04:10:42.213088Z"
    }
   },
   "outputs": [],
   "source": [
    "def reformat(col):\n",
    "    return col.apply(lambda x: x.strip('{}').replace('\"','').split(','))"
   ]
  },
  {
   "cell_type": "code",
   "execution_count": 75,
   "metadata": {
    "ExecuteTime": {
     "end_time": "2019-05-02T04:10:42.556570Z",
     "start_time": "2019-05-02T04:10:42.542996Z"
    }
   },
   "outputs": [],
   "source": [
    "def sort_by_value(d): \n",
    "    items=d.items() \n",
    "    backitems=[[v[1],v[0]] for v in items] \n",
    "    backitems.sort(reverse=True) \n",
    "    return [ backitems[i][1] for i in range(0,len(backitems))] "
   ]
  },
  {
   "cell_type": "code",
   "execution_count": 76,
   "metadata": {
    "ExecuteTime": {
     "end_time": "2019-05-02T04:10:42.941428Z",
     "start_time": "2019-05-02T04:10:42.920120Z"
    }
   },
   "outputs": [],
   "source": [
    "listings['amenities'] = reformat(listings['amenities'])"
   ]
  },
  {
   "cell_type": "code",
   "execution_count": 77,
   "metadata": {
    "ExecuteTime": {
     "end_time": "2019-05-02T04:10:43.351930Z",
     "start_time": "2019-05-02T04:10:43.309756Z"
    },
    "scrolled": true
   },
   "outputs": [],
   "source": [
    "amenity_lists = []\n",
    "for j in range(len(listings)):\n",
    "    amenity_lists.extend(listings.loc[j, 'amenities'])"
   ]
  },
  {
   "cell_type": "code",
   "execution_count": 78,
   "metadata": {
    "ExecuteTime": {
     "end_time": "2019-05-02T04:10:43.797629Z",
     "start_time": "2019-05-02T04:10:43.774783Z"
    }
   },
   "outputs": [],
   "source": [
    "frequency = collections.defaultdict(int)\n",
    "for amenity in amenity_lists: frequency[amenity] += 1"
   ]
  },
  {
   "cell_type": "code",
   "execution_count": 79,
   "metadata": {
    "ExecuteTime": {
     "end_time": "2019-05-02T04:10:44.090986Z",
     "start_time": "2019-05-02T04:10:44.085448Z"
    }
   },
   "outputs": [],
   "source": [
    "amenities_picked = sort_by_value(frequency)[0:numa]"
   ]
  },
  {
   "cell_type": "code",
   "execution_count": 80,
   "metadata": {
    "ExecuteTime": {
     "end_time": "2019-05-02T04:10:44.302536Z",
     "start_time": "2019-05-02T04:10:44.275700Z"
    },
    "scrolled": true
   },
   "outputs": [],
   "source": [
    "new_cols = pd.DataFrame(columns = amenities_picked, data = list(np.zeros((len(listings), numa))), dtype=int)"
   ]
  },
  {
   "cell_type": "code",
   "execution_count": 81,
   "metadata": {
    "ExecuteTime": {
     "end_time": "2019-05-02T04:11:06.958320Z",
     "start_time": "2019-05-02T04:10:44.445885Z"
    },
    "scrolled": true
   },
   "outputs": [],
   "source": [
    "for j in range(len(new_cols)):\n",
    "    for i in range(numa):\n",
    "        if amenities_picked[i] in listings.amenities[j]:\n",
    "            new_cols.iloc[j,i] += 1"
   ]
  },
  {
   "cell_type": "code",
   "execution_count": 82,
   "metadata": {
    "ExecuteTime": {
     "end_time": "2019-05-02T04:11:07.106366Z",
     "start_time": "2019-05-02T04:11:07.101053Z"
    }
   },
   "outputs": [],
   "source": [
    "listings = pd.concat((listings.drop('amenities', axis=1),new_cols), axis=1)"
   ]
  },
  {
   "cell_type": "markdown",
   "metadata": {},
   "source": [
    "## 1.5 Save listings"
   ]
  },
  {
   "cell_type": "code",
   "execution_count": 56,
   "metadata": {
    "ExecuteTime": {
     "end_time": "2019-05-01T21:59:13.699815Z",
     "start_time": "2019-05-01T21:59:13.070368Z"
    },
    "scrolled": true
   },
   "outputs": [],
   "source": [
    "listings.to_csv('../save/listings.csv')"
   ]
  },
  {
   "cell_type": "code",
   "execution_count": null,
   "metadata": {},
   "outputs": [],
   "source": []
  }
 ],
 "metadata": {
  "kernelspec": {
   "display_name": "Python 3",
   "language": "python",
   "name": "python3"
  },
  "latex_envs": {
   "LaTeX_envs_menu_present": true,
   "autoclose": false,
   "autocomplete": true,
   "bibliofile": "biblio.bib",
   "cite_by": "apalike",
   "current_citInitial": 1,
   "eqLabelWithNumbers": true,
   "eqNumInitial": 1,
   "hotkeys": {
    "equation": "Ctrl-E",
    "itemize": "Ctrl-I"
   },
   "labels_anchors": false,
   "latex_user_defs": false,
   "report_style_numbering": false,
   "user_envs_cfg": false
  },
  "varInspector": {
   "cols": {
    "lenName": 16,
    "lenType": 16,
    "lenVar": 40
   },
   "kernels_config": {
    "python": {
     "delete_cmd_postfix": "",
     "delete_cmd_prefix": "del ",
     "library": "var_list.py",
     "varRefreshCmd": "print(var_dic_list())"
    },
    "r": {
     "delete_cmd_postfix": ") ",
     "delete_cmd_prefix": "rm(",
     "library": "var_list.r",
     "varRefreshCmd": "cat(var_dic_list()) "
    }
   },
   "types_to_exclude": [
    "module",
    "function",
    "builtin_function_or_method",
    "instance",
    "_Feature"
   ],
   "window_display": false
  }
 },
 "nbformat": 4,
 "nbformat_minor": 2
}
