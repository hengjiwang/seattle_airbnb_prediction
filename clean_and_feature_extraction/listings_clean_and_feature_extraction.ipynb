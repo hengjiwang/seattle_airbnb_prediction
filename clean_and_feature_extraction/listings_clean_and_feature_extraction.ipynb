{
 "cells": [
  {
   "cell_type": "markdown",
   "metadata": {},
   "source": [
    "# 1. Listings information preprocessing"
   ]
  },
  {
   "cell_type": "code",
   "execution_count": 1,
   "metadata": {
    "ExecuteTime": {
     "end_time": "2019-05-09T03:29:33.344572Z",
     "start_time": "2019-05-09T03:29:31.740450Z"
    }
   },
   "outputs": [],
   "source": [
    "import pandas as pd\n",
    "import numpy as np\n",
    "import matplotlib.pyplot as plt\n",
    "import re, collections"
   ]
  },
  {
   "cell_type": "markdown",
   "metadata": {},
   "source": [
    "## 1.1 Touch data"
   ]
  },
  {
   "cell_type": "markdown",
   "metadata": {},
   "source": [
    "### Load listings data"
   ]
  },
  {
   "cell_type": "code",
   "execution_count": 2,
   "metadata": {
    "ExecuteTime": {
     "end_time": "2019-05-09T03:29:35.257279Z",
     "start_time": "2019-05-09T03:29:34.701031Z"
    }
   },
   "outputs": [],
   "source": [
    "raw_listings = pd.read_csv('../data/2018_04_14/listings.csv', low_memory=False)"
   ]
  },
  {
   "cell_type": "code",
   "execution_count": 20,
   "metadata": {
    "ExecuteTime": {
     "end_time": "2019-05-09T03:50:09.016640Z",
     "start_time": "2019-05-09T03:50:09.011977Z"
    }
   },
   "outputs": [
    {
     "data": {
      "text/plain": [
       "(7912, 96)"
      ]
     },
     "execution_count": 20,
     "metadata": {},
     "output_type": "execute_result"
    }
   ],
   "source": [
    "raw_listings.shape"
   ]
  },
  {
   "cell_type": "markdown",
   "metadata": {},
   "source": [
    "### Show attributes"
   ]
  },
  {
   "cell_type": "code",
   "execution_count": 3,
   "metadata": {
    "ExecuteTime": {
     "end_time": "2019-05-09T03:29:52.262405Z",
     "start_time": "2019-05-09T03:29:52.258983Z"
    },
    "scrolled": true
   },
   "outputs": [],
   "source": [
    "attributes = [(i, raw_listings.columns[i]) for i in range(len(raw_listings.columns))]\n",
    "# for j in range(len(attributes)): print(attributes[j])"
   ]
  },
  {
   "cell_type": "markdown",
   "metadata": {},
   "source": [
    "## 1.2 Clean listing information"
   ]
  },
  {
   "cell_type": "markdown",
   "metadata": {
    "ExecuteTime": {
     "end_time": "2019-04-30T05:21:30.465626Z",
     "start_time": "2019-04-30T05:21:30.461762Z"
    }
   },
   "source": [
    "### Pick listings information columns"
   ]
  },
  {
   "cell_type": "code",
   "execution_count": 9,
   "metadata": {
    "ExecuteTime": {
     "end_time": "2019-05-09T03:33:10.580723Z",
     "start_time": "2019-05-09T03:33:10.575560Z"
    }
   },
   "outputs": [],
   "source": [
    "# list_info = [v[1] for v in attributes if v[0] in list_info_indices]\n",
    "\n",
    "list_info = ['id',\n",
    " 'host_since',\n",
    " 'neighbourhood_cleansed',\n",
    " 'property_type',\n",
    " 'room_type',\n",
    " 'accommodates',\n",
    " 'bathrooms',\n",
    " 'bedrooms',\n",
    " 'beds',\n",
    " 'bed_type',\n",
    " 'amenities',\n",
    " 'price',\n",
    " 'minimum_nights',\n",
    " 'maximum_nights',\n",
    " 'number_of_reviews',\n",
    " 'review_scores_accuracy',\n",
    " 'cancellation_policy']\n",
    "\n",
    "# for v in (list_info): print(v)"
   ]
  },
  {
   "cell_type": "code",
   "execution_count": 10,
   "metadata": {
    "ExecuteTime": {
     "end_time": "2019-05-09T03:33:11.308639Z",
     "start_time": "2019-05-09T03:33:11.299374Z"
    }
   },
   "outputs": [],
   "source": [
    "listings = raw_listings[list_info].copy()"
   ]
  },
  {
   "cell_type": "markdown",
   "metadata": {},
   "source": [
    "### Prune the listings that lack significant listing information"
   ]
  },
  {
   "cell_type": "code",
   "execution_count": 11,
   "metadata": {
    "ExecuteTime": {
     "end_time": "2019-05-09T03:33:12.414296Z",
     "start_time": "2019-05-09T03:33:12.400584Z"
    }
   },
   "outputs": [],
   "source": [
    "listings['price'] = (listings['price'].str.replace(r'[^-+\\d.]', '').astype(float))"
   ]
  },
  {
   "cell_type": "code",
   "execution_count": 12,
   "metadata": {
    "ExecuteTime": {
     "end_time": "2019-05-09T03:33:13.261246Z",
     "start_time": "2019-05-09T03:33:13.237077Z"
    }
   },
   "outputs": [],
   "source": [
    "listings = listings.dropna(how = 'any', subset = ['id', 'property_type', 'neighbourhood_cleansed', 'bathrooms', \\\n",
    "                                              'bathrooms', 'beds', 'price'])\n",
    "listings = listings[listings['beds']!=0]\n",
    "listings = listings[listings['bedrooms']!=0]\n",
    "listings = listings[listings['bathrooms']!=0]\n",
    "listings = listings[listings['price']!=0]\n",
    "listings = listings[listings['accommodates']!=0]\n",
    "listings = listings.reset_index(drop=True)"
   ]
  },
  {
   "cell_type": "code",
   "execution_count": 13,
   "metadata": {
    "ExecuteTime": {
     "end_time": "2019-05-09T03:33:14.475866Z",
     "start_time": "2019-05-09T03:33:14.472332Z"
    }
   },
   "outputs": [],
   "source": [
    "id_left = listings.id"
   ]
  },
  {
   "cell_type": "markdown",
   "metadata": {},
   "source": [
    "## 1.3 Extract features from listings information"
   ]
  },
  {
   "cell_type": "markdown",
   "metadata": {},
   "source": [
    "### Encode categorical attributes"
   ]
  },
  {
   "cell_type": "code",
   "execution_count": 14,
   "metadata": {
    "ExecuteTime": {
     "end_time": "2019-05-09T03:33:22.415510Z",
     "start_time": "2019-05-09T03:33:21.688152Z"
    }
   },
   "outputs": [],
   "source": [
    "for i in range(len(listings)):\n",
    "    if listings.loc[i, 'review_scores_accuracy'] != listings.loc[i, 'review_scores_accuracy']:\n",
    "        listings.loc[i, 'review_scores_accuracy'] = 'No Review'"
   ]
  },
  {
   "cell_type": "code",
   "execution_count": 15,
   "metadata": {
    "ExecuteTime": {
     "end_time": "2019-05-09T03:33:23.631694Z",
     "start_time": "2019-05-09T03:33:23.627323Z"
    }
   },
   "outputs": [],
   "source": [
    "categorical_attributes = ['neighbourhood_cleansed', \n",
    "                          'property_type',\n",
    "                          'room_type',\n",
    "                          'bed_type',\n",
    "                          'review_scores_accuracy',\n",
    "                          'cancellation_policy']"
   ]
  },
  {
   "cell_type": "code",
   "execution_count": 16,
   "metadata": {
    "ExecuteTime": {
     "end_time": "2019-05-09T03:33:33.742094Z",
     "start_time": "2019-05-09T03:33:33.684789Z"
    }
   },
   "outputs": [],
   "source": [
    "for attr in categorical_attributes:\n",
    "    encoded_cols = pd.get_dummies(listings[attr])\n",
    "    listings = pd.concat((listings.drop(attr, axis = 1), encoded_cols), axis = 1)"
   ]
  },
  {
   "cell_type": "markdown",
   "metadata": {
    "ExecuteTime": {
     "end_time": "2019-05-01T03:11:58.777796Z",
     "start_time": "2019-05-01T03:11:58.742806Z"
    }
   },
   "source": [
    "### Encode non-categorical attributes"
   ]
  },
  {
   "cell_type": "code",
   "execution_count": 17,
   "metadata": {
    "ExecuteTime": {
     "end_time": "2019-05-09T03:33:36.863771Z",
     "start_time": "2019-05-09T03:33:36.860009Z"
    }
   },
   "outputs": [],
   "source": [
    "def standardize(col):\n",
    "    mean = np.mean(col)\n",
    "    std = np.std(col)\n",
    "    return col.apply(lambda x: (x - mean) / std)"
   ]
  },
  {
   "cell_type": "code",
   "execution_count": 18,
   "metadata": {
    "ExecuteTime": {
     "end_time": "2019-05-09T03:33:37.532052Z",
     "start_time": "2019-05-09T03:33:37.528244Z"
    }
   },
   "outputs": [],
   "source": [
    "noncategorical_attributes = ['host_since', 'accommodates', \n",
    "                             'bedrooms', 'beds', 'bathrooms', 'number_of_reviews',\n",
    "                            'minimum_nights', 'maximum_nights']"
   ]
  },
  {
   "cell_type": "code",
   "execution_count": 19,
   "metadata": {
    "ExecuteTime": {
     "end_time": "2019-05-09T03:33:38.217108Z",
     "start_time": "2019-05-09T03:33:38.183870Z"
    },
    "scrolled": true
   },
   "outputs": [],
   "source": [
    "for attr in noncategorical_attributes:\n",
    "    if attr == 'host_since':\n",
    "        listings[attr] = standardize(listings[attr].str.replace(r'-', '').astype(float))\n",
    "    else:\n",
    "        listings[attr] = standardize(listings[attr].astype(float))"
   ]
  },
  {
   "cell_type": "markdown",
   "metadata": {
    "ExecuteTime": {
     "end_time": "2019-05-01T05:15:57.362984Z",
     "start_time": "2019-05-01T05:15:57.305029Z"
    }
   },
   "source": [
    "## 1.4 Extract features from amenities"
   ]
  },
  {
   "cell_type": "markdown",
   "metadata": {},
   "source": [
    "### Count the words frequency"
   ]
  },
  {
   "cell_type": "code",
   "execution_count": 22,
   "metadata": {
    "ExecuteTime": {
     "end_time": "2019-05-09T03:50:34.322388Z",
     "start_time": "2019-05-09T03:50:34.319077Z"
    }
   },
   "outputs": [],
   "source": [
    "numa = 20"
   ]
  },
  {
   "cell_type": "code",
   "execution_count": 23,
   "metadata": {
    "ExecuteTime": {
     "end_time": "2019-05-09T03:50:38.356264Z",
     "start_time": "2019-05-09T03:50:38.352522Z"
    }
   },
   "outputs": [],
   "source": [
    "def reformat(col):\n",
    "    return col.apply(lambda x: x.strip('{}').replace('\"','').split(','))"
   ]
  },
  {
   "cell_type": "code",
   "execution_count": 24,
   "metadata": {
    "ExecuteTime": {
     "end_time": "2019-05-09T03:50:39.617974Z",
     "start_time": "2019-05-09T03:50:39.613815Z"
    }
   },
   "outputs": [],
   "source": [
    "def sort_by_value(d): \n",
    "    items=d.items() \n",
    "    backitems=[[v[1],v[0]] for v in items] \n",
    "    backitems.sort(reverse=True) \n",
    "    return [ backitems[i][1] for i in range(0,len(backitems))] "
   ]
  },
  {
   "cell_type": "code",
   "execution_count": 25,
   "metadata": {
    "ExecuteTime": {
     "end_time": "2019-05-09T03:50:41.309465Z",
     "start_time": "2019-05-09T03:50:41.257585Z"
    }
   },
   "outputs": [],
   "source": [
    "listings['amenities'] = reformat(listings['amenities'])"
   ]
  },
  {
   "cell_type": "code",
   "execution_count": 26,
   "metadata": {
    "ExecuteTime": {
     "end_time": "2019-05-09T03:50:41.900885Z",
     "start_time": "2019-05-09T03:50:41.832400Z"
    },
    "scrolled": true
   },
   "outputs": [],
   "source": [
    "amenity_lists = []\n",
    "for j in range(len(listings)):\n",
    "    amenity_lists.extend(listings.loc[j, 'amenities'])"
   ]
  },
  {
   "cell_type": "code",
   "execution_count": 27,
   "metadata": {
    "ExecuteTime": {
     "end_time": "2019-05-09T03:50:42.508316Z",
     "start_time": "2019-05-09T03:50:42.464996Z"
    }
   },
   "outputs": [],
   "source": [
    "frequency = collections.defaultdict(int)\n",
    "for amenity in amenity_lists: frequency[amenity] += 1"
   ]
  },
  {
   "cell_type": "code",
   "execution_count": 28,
   "metadata": {
    "ExecuteTime": {
     "end_time": "2019-05-09T03:50:43.113159Z",
     "start_time": "2019-05-09T03:50:43.109513Z"
    }
   },
   "outputs": [],
   "source": [
    "amenities_picked = sort_by_value(frequency)[0:numa]"
   ]
  },
  {
   "cell_type": "code",
   "execution_count": 29,
   "metadata": {
    "ExecuteTime": {
     "end_time": "2019-05-09T03:50:43.802871Z",
     "start_time": "2019-05-09T03:50:43.732099Z"
    },
    "scrolled": true
   },
   "outputs": [],
   "source": [
    "new_cols = pd.DataFrame(columns = amenities_picked, data = list(np.zeros((len(listings), numa))), dtype=int)"
   ]
  },
  {
   "cell_type": "code",
   "execution_count": 30,
   "metadata": {
    "ExecuteTime": {
     "end_time": "2019-05-09T03:51:15.465297Z",
     "start_time": "2019-05-09T03:50:44.761721Z"
    },
    "scrolled": true
   },
   "outputs": [],
   "source": [
    "for j in range(len(new_cols)):\n",
    "    for i in range(numa):\n",
    "        if amenities_picked[i] in listings.amenities[j]:\n",
    "            new_cols.iloc[j,i] += 1"
   ]
  },
  {
   "cell_type": "code",
   "execution_count": 31,
   "metadata": {
    "ExecuteTime": {
     "end_time": "2019-05-09T03:51:15.726956Z",
     "start_time": "2019-05-09T03:51:15.715301Z"
    }
   },
   "outputs": [],
   "source": [
    "listings = pd.concat((listings.drop('amenities', axis=1),new_cols), axis=1)"
   ]
  },
  {
   "cell_type": "markdown",
   "metadata": {},
   "source": [
    "## 1.5 Save listings"
   ]
  },
  {
   "cell_type": "code",
   "execution_count": 32,
   "metadata": {
    "ExecuteTime": {
     "end_time": "2019-05-09T03:51:19.044983Z",
     "start_time": "2019-05-09T03:51:18.002469Z"
    },
    "scrolled": true
   },
   "outputs": [],
   "source": [
    "listings.to_csv('../save/listings.csv')"
   ]
  },
  {
   "cell_type": "code",
   "execution_count": 33,
   "metadata": {
    "ExecuteTime": {
     "end_time": "2019-05-09T03:51:25.329280Z",
     "start_time": "2019-05-09T03:51:25.323894Z"
    }
   },
   "outputs": [
    {
     "data": {
      "text/plain": [
       "(6900, 175)"
      ]
     },
     "execution_count": 33,
     "metadata": {},
     "output_type": "execute_result"
    }
   ],
   "source": [
    "listings.shape"
   ]
  },
  {
   "cell_type": "code",
   "execution_count": null,
   "metadata": {},
   "outputs": [],
   "source": []
  }
 ],
 "metadata": {
  "kernelspec": {
   "display_name": "Python 3",
   "language": "python",
   "name": "python3"
  },
  "language_info": {
   "codemirror_mode": {
    "name": "ipython",
    "version": 3
   },
   "file_extension": ".py",
   "mimetype": "text/x-python",
   "name": "python",
   "nbconvert_exporter": "python",
   "pygments_lexer": "ipython3",
   "version": "3.7.3"
  },
  "latex_envs": {
   "LaTeX_envs_menu_present": true,
   "autoclose": false,
   "autocomplete": true,
   "bibliofile": "biblio.bib",
   "cite_by": "apalike",
   "current_citInitial": 1,
   "eqLabelWithNumbers": true,
   "eqNumInitial": 1,
   "hotkeys": {
    "equation": "Ctrl-E",
    "itemize": "Ctrl-I"
   },
   "labels_anchors": false,
   "latex_user_defs": false,
   "report_style_numbering": false,
   "user_envs_cfg": false
  },
  "nbdime-conflicts": {
   "local_diff": [
    {
     "key": "language_info",
     "op": "add",
     "value": {
      "codemirror_mode": {
       "name": "ipython",
       "version": 3
      },
      "file_extension": ".py",
      "mimetype": "text/x-python",
      "name": "python",
      "nbconvert_exporter": "python",
      "pygments_lexer": "ipython3",
      "version": "3.7.3"
     }
    }
   ],
   "remote_diff": [
    {
     "key": "language_info",
     "op": "add",
     "value": {
      "codemirror_mode": {
       "name": "ipython",
       "version": 3
      },
      "file_extension": ".py",
      "mimetype": "text/x-python",
      "name": "python",
      "nbconvert_exporter": "python",
      "pygments_lexer": "ipython3",
      "version": "3.6.8"
     }
    }
   ]
  },
  "varInspector": {
   "cols": {
    "lenName": 16,
    "lenType": 16,
    "lenVar": 40
   },
   "kernels_config": {
    "python": {
     "delete_cmd_postfix": "",
     "delete_cmd_prefix": "del ",
     "library": "var_list.py",
     "varRefreshCmd": "print(var_dic_list())"
    },
    "r": {
     "delete_cmd_postfix": ") ",
     "delete_cmd_prefix": "rm(",
     "library": "var_list.r",
     "varRefreshCmd": "cat(var_dic_list()) "
    }
   },
   "types_to_exclude": [
    "module",
    "function",
    "builtin_function_or_method",
    "instance",
    "_Feature"
   ],
   "window_display": false
  }
 },
 "nbformat": 4,
 "nbformat_minor": 2
}
