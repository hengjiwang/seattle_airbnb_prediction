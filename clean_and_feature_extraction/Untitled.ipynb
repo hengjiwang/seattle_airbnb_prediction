{
 "cells": [
  {
   "cell_type": "code",
   "execution_count": 9,
   "metadata": {},
   "outputs": [],
   "source": [
    "import numpy as np\n",
    "import pandas as pd\n",
    "import matplotlib.pyplot as plt\n",
    "import scipy\n"
   ]
  },
  {
   "cell_type": "code",
   "execution_count": 10,
   "metadata": {},
   "outputs": [],
   "source": [
    "fl ='../data/2018_04_14/listings.csv'"
   ]
  },
  {
   "cell_type": "code",
   "execution_count": 19,
   "metadata": {},
   "outputs": [],
   "source": [
    "df = pd.read_csv(fl)\n",
    "df['host_sice'] = pd.to_datetime(df['host_since'])"
   ]
  },
  {
   "cell_type": "code",
   "execution_count": 22,
   "metadata": {},
   "outputs": [],
   "source": [
    "hsince = df.groupby(by='host_sice')['host_sice'].count()"
   ]
  },
  {
   "cell_type": "code",
   "execution_count": 23,
   "metadata": {},
   "outputs": [
    {
     "data": {
      "text/plain": [
       "host_sice\n",
       "2008-07-19     1\n",
       "2008-08-26     1\n",
       "2008-11-10     1\n",
       "2008-12-03     1\n",
       "2009-02-05     1\n",
       "2009-02-16     1\n",
       "2009-03-03     1\n",
       "2009-04-17     1\n",
       "2009-04-26     3\n",
       "2009-06-09     2\n",
       "2009-08-09     6\n",
       "2009-08-10     4\n",
       "2009-08-12     3\n",
       "2009-08-13    10\n",
       "2009-08-15     1\n",
       "2009-08-23     7\n",
       "2009-08-25     1\n",
       "2009-08-30     1\n",
       "2009-09-01     1\n",
       "2009-09-02     5\n",
       "2009-09-18     3\n",
       "2009-09-24     1\n",
       "2009-09-27     1\n",
       "2009-09-30     1\n",
       "2009-10-10     1\n",
       "2009-10-12     1\n",
       "2009-10-14     1\n",
       "2009-11-02     1\n",
       "2009-11-10     1\n",
       "2009-11-16     1\n",
       "              ..\n",
       "2018-02-22     1\n",
       "2018-02-24     1\n",
       "2018-02-28     1\n",
       "2018-03-01     1\n",
       "2018-03-03     2\n",
       "2018-03-04     2\n",
       "2018-03-05     1\n",
       "2018-03-06     1\n",
       "2018-03-08     1\n",
       "2018-03-13     1\n",
       "2018-03-14     1\n",
       "2018-03-15     1\n",
       "2018-03-19     2\n",
       "2018-03-20     2\n",
       "2018-03-21     3\n",
       "2018-03-23     2\n",
       "2018-03-24     1\n",
       "2018-03-25     3\n",
       "2018-03-28     2\n",
       "2018-03-29     1\n",
       "2018-03-30     1\n",
       "2018-04-01     3\n",
       "2018-04-02     1\n",
       "2018-04-04     2\n",
       "2018-04-06     1\n",
       "2018-04-07     2\n",
       "2018-04-09     2\n",
       "2018-04-12     1\n",
       "2018-04-13     1\n",
       "2018-04-14     1\n",
       "Name: host_sice, Length: 2180, dtype: int64"
      ]
     },
     "execution_count": 23,
     "metadata": {},
     "output_type": "execute_result"
    }
   ],
   "source": [
    "hsince"
   ]
  },
  {
   "cell_type": "code",
   "execution_count": null,
   "metadata": {},
   "outputs": [],
   "source": []
  }
 ],
 "metadata": {
  "kernelspec": {
   "display_name": "Python 3",
   "language": "python",
   "name": "python3"
  },
  "language_info": {
   "codemirror_mode": {
    "name": "ipython",
    "version": 3
   },
   "file_extension": ".py",
   "mimetype": "text/x-python",
   "name": "python",
   "nbconvert_exporter": "python",
   "pygments_lexer": "ipython3",
   "version": "3.6.8"
  }
 },
 "nbformat": 4,
 "nbformat_minor": 2
}
