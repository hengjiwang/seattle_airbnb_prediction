{
 "cells": [
  {
   "cell_type": "code",
   "execution_count": 1,
   "metadata": {
    "ExecuteTime": {
     "end_time": "2019-05-07T05:03:58.898345Z",
     "start_time": "2019-05-07T05:03:45.579826Z"
    }
   },
   "outputs": [],
   "source": [
    "from calendar_clean_exploration import clean_calendar\n",
    "import datetime,calendar\n",
    "import pandas as pd\n",
    "\n",
    "def holiday(year):\n",
    "    #fixed holidays\n",
    "    fixmd = [[1,1],[7,4],[11,11]]\n",
    "    holidays = [datetime.datetime(year,x[0],x[1]) for x in fixmd]\n",
    "    #floating holidays\n",
    "    #'2,3,1': the third Monday of Feburary;'5,-1,1': the last Monday of May \n",
    "    floatmwd = ['1,3,1','2,3,1','5,-1,1','9,1,1','10,2,1','11,4,4']\n",
    "    holidays.extend([flholiday(year,x) for x in floatmwd])\n",
    "    return sorted(holidays)\n",
    "    \n",
    "def flholiday(y,mwd):\n",
    "    #input year and month-week-weekday\n",
    "    m,w,d = list(map(int,mwd.split(',')))\n",
    "    d = d-1\n",
    "    wday, mrange = calendar.monthrange(y, m) #firstDayWeekDay,monthRange\n",
    "    if w>0:\n",
    "        if wday<=d:\n",
    "            day = 1+7*(w-1)+d-wday\n",
    "        else:\n",
    "            day = 1+7*w-(wday-d)\n",
    "    else:\n",
    "        wday = datetime.datetime(y,m,mrange).weekday()\n",
    "        if d<=wday:\n",
    "            day = mrange+7*(w+1)-(wday-d)\n",
    "        else:\n",
    "            day = mrange+7*w+(d-wday)\n",
    "    return datetime.datetime(y,m,day)   \n",
    "\n",
    "df = clean_calendar('../data/2018_04_14/calendar.csv')\n",
    "#return 0-6, stands for Mon to Sun\n",
    "df['week'] = df.date.dt.dayofweek\n",
    "\n",
    "#day of week\n",
    "week = ['Mon','Tue','Wed','Thu','Fri','Sat','Sun']\n",
    "for i,w in enumerate(week):\n",
    "    df[w]=0\n",
    "    df.loc[df['week']==i,w]=1\n",
    "    \n",
    "#which month\n",
    "month = ['Jan','Feb','Mar','Apr','May','Jun','Jul','Aug','Sep','Oct','Nov','Dec']\n",
    "for i,m in enumerate(month):\n",
    "    df[m]=0\n",
    "    df.loc[df.date.dt.month==i+1,m]=1\n",
    "\n",
    "#which year\n",
    "year = [2018,2019]\n",
    "for y in year:\n",
    "    df[y]=0\n",
    "    df.loc[df.date.dt.year==y,y]=1\n",
    "\n",
    "#christams holidays: 12/25-12/31\n",
    "df['ChristmasHolidays']=0\n",
    "df.loc[(df.date.dt.month==12) & (df.date.dt.day>=25),'ChristmasHolidays']=1\n",
    "\n",
    "#other holidays\n",
    "holidays = ['NewYear','MartinLK','President','Memorial','Independence','Labor','Columbus','Veterans','Thanksgiving']\n",
    "holiday18 = holiday(2018)\n",
    "holiday19 = holiday(2019)\n",
    "for i,h in enumerate(holidays):\n",
    "    df[h]=0\n",
    "    df.loc[df.date==holiday18[i],h]=1\n",
    "    df.loc[df.date==holiday19[i],h]=1\n",
    "    \n",
    "df.drop(columns=['week','date'],inplace=True)"
   ]
  },
  {
   "cell_type": "code",
   "execution_count": 62,
   "metadata": {
    "ExecuteTime": {
     "end_time": "2019-05-07T05:39:41.962270Z",
     "start_time": "2019-05-07T05:39:41.268271Z"
    }
   },
   "outputs": [],
   "source": [
    "holidays.append('ChristmasHolidays')\n",
    "df_nholi = df[(df[holidays]==0).all(axis=1)].drop(columns=holidays)\n",
    "listing = df_nholi.listing_id.unique()"
   ]
  },
  {
   "cell_type": "code",
   "execution_count": 67,
   "metadata": {
    "ExecuteTime": {
     "end_time": "2019-05-07T05:41:09.747402Z",
     "start_time": "2019-05-07T05:41:07.178702Z"
    }
   },
   "outputs": [],
   "source": [
    "gmark = ['listing_id']\n",
    "gmark.extend(year)\n",
    "gmark.extend(month)\n",
    "gmark.extend(week)\n",
    "\n",
    "result = df_nholi.groupby(gmark)['price'].mean().to_frame()\n",
    "result.reset_index(inplace=True)"
   ]
  },
  {
   "cell_type": "code",
   "execution_count": 70,
   "metadata": {
    "ExecuteTime": {
     "end_time": "2019-05-07T05:42:27.077970Z",
     "start_time": "2019-05-07T05:42:26.860792Z"
    },
    "scrolled": true
   },
   "outputs": [],
   "source": [
    "df_holi = df[(df[holidays]==1).any(axis=1)]"
   ]
  },
  {
   "cell_type": "code",
   "execution_count": 75,
   "metadata": {
    "ExecuteTime": {
     "end_time": "2019-05-07T05:48:18.947438Z",
     "start_time": "2019-05-07T05:48:18.740859Z"
    }
   },
   "outputs": [],
   "source": [
    "df = pd.concat([df_holi,result],ignore_index=True,sort=False).fillna(0)"
   ]
  },
  {
   "cell_type": "code",
   "execution_count": null,
   "metadata": {},
   "outputs": [],
   "source": []
  }
 ],
 "metadata": {
  "kernelspec": {
   "display_name": "Python 3",
   "language": "python",
   "name": "python3"
  },
  "language_info": {
   "codemirror_mode": {
    "name": "ipython",
    "version": 3
   },
   "file_extension": ".py",
   "mimetype": "text/x-python",
   "name": "python",
   "nbconvert_exporter": "python",
   "pygments_lexer": "ipython3",
   "version": "3.6.8"
  },
  "latex_envs": {
   "LaTeX_envs_menu_present": true,
   "autoclose": false,
   "autocomplete": true,
   "bibliofile": "biblio.bib",
   "cite_by": "apalike",
   "current_citInitial": 1,
   "eqLabelWithNumbers": true,
   "eqNumInitial": 1,
   "hotkeys": {
    "equation": "Ctrl-E",
    "itemize": "Ctrl-I"
   },
   "labels_anchors": false,
   "latex_user_defs": false,
   "report_style_numbering": false,
   "user_envs_cfg": false
  },
  "varInspector": {
   "cols": {
    "lenName": 16,
    "lenType": 16,
    "lenVar": 40
   },
   "kernels_config": {
    "python": {
     "delete_cmd_postfix": "",
     "delete_cmd_prefix": "del ",
     "library": "var_list.py",
     "varRefreshCmd": "print(var_dic_list())"
    },
    "r": {
     "delete_cmd_postfix": ") ",
     "delete_cmd_prefix": "rm(",
     "library": "var_list.r",
     "varRefreshCmd": "cat(var_dic_list()) "
    }
   },
   "types_to_exclude": [
    "module",
    "function",
    "builtin_function_or_method",
    "instance",
    "_Feature"
   ],
   "window_display": false
  }
 },
 "nbformat": 4,
 "nbformat_minor": 2
}
