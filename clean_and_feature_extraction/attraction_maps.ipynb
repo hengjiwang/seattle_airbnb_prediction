{
 "cells": [
  {
   "cell_type": "code",
   "execution_count": 1,
   "metadata": {
    "ExecuteTime": {
     "end_time": "2019-06-16T05:30:38.999109Z",
     "start_time": "2019-06-16T05:30:35.521810Z"
    }
   },
   "outputs": [],
   "source": [
    "import pandas as pd\n",
    "import numpy as np\n",
    "import plotly.plotly as py\n",
    "import plotly.figure_factory as ff\n",
    "import plotly.graph_objs as go\n",
    "import matplotlib.pyplot as plt\n",
    "from plotly import tools\n",
    "tools.set_credentials_file(username='hengjiwang', api_key='5LRNQQ38BLqW8m0iMHoV')"
   ]
  },
  {
   "cell_type": "code",
   "execution_count": 2,
   "metadata": {
    "ExecuteTime": {
     "end_time": "2019-06-16T05:30:39.086634Z",
     "start_time": "2019-06-16T05:30:39.013761Z"
    }
   },
   "outputs": [],
   "source": [
    "df = pd.read_excel('seattle_attractions.xlsx')"
   ]
  },
  {
   "cell_type": "code",
   "execution_count": 7,
   "metadata": {
    "ExecuteTime": {
     "end_time": "2019-06-16T05:31:38.716850Z",
     "start_time": "2019-06-16T05:31:36.981685Z"
    }
   },
   "outputs": [
    {
     "data": {
      "text/html": [
       "<iframe id=\"igraph\" scrolling=\"no\" style=\"border:none;\" seamless=\"seamless\" src=\"https://plot.ly/~hengjiwang/9.embed\" height=\"700px\" width=\"450px\"></iframe>"
      ],
      "text/plain": [
       "<chart_studio.tools.PlotlyDisplay object>"
      ]
     },
     "execution_count": 7,
     "metadata": {},
     "output_type": "execute_result"
    }
   ],
   "source": [
    "data = [\n",
    "    go.Scattermapbox(\n",
    "        lat=df['lat'],\n",
    "        lon=df['lon'],\n",
    "        text=df['attraction'],\n",
    "        mode='markers',\n",
    "        marker=go.scattermapbox.Marker(\n",
    "            size=70,\n",
    "            opacity=0.5,\n",
    "        ))]\n",
    "\n",
    "layout = go.Layout(\n",
    "    autosize=True,\n",
    "    title='Seattle Attractions Area',\n",
    "    width=450,\n",
    "    height=700,\n",
    "    hovermode='closest',\n",
    "    mapbox=go.layout.Mapbox(\n",
    "        accesstoken=mapbox_access_token,\n",
    "        bearing=0,\n",
    "        center=go.layout.mapbox.Center(\n",
    "            lat=47.6,\n",
    "            lon=-122.3\n",
    "        ),\n",
    "        pitch=0,\n",
    "        zoom=10,\n",
    "        style='light'\n",
    "    ),\n",
    ")\n",
    "\n",
    "fig = go.Figure(data=data, layout=layout)\n",
    "py.iplot(fig, filename='Multiple Mapbox')\n"
   ]
  },
  {
   "cell_type": "code",
   "execution_count": 3,
   "metadata": {
    "ExecuteTime": {
     "end_time": "2019-06-16T05:30:46.816533Z",
     "start_time": "2019-06-16T05:30:39.956524Z"
    },
    "scrolled": true
   },
   "outputs": [
    {
     "name": "stderr",
     "output_type": "stream",
     "text": [
      "/anaconda3/lib/python3.6/site-packages/IPython/core/interactiveshell.py:2963: DtypeWarning:\n",
      "\n",
      "Columns (43) have mixed types. Specify dtype option on import or set low_memory=False.\n",
      "\n",
      "/anaconda3/lib/python3.6/site-packages/IPython/core/interactiveshell.py:2963: DtypeWarning:\n",
      "\n",
      "Columns (87) have mixed types. Specify dtype option on import or set low_memory=False.\n",
      "\n",
      "/anaconda3/lib/python3.6/site-packages/IPython/core/interactiveshell.py:2963: DtypeWarning:\n",
      "\n",
      "Columns (61,62,87) have mixed types. Specify dtype option on import or set low_memory=False.\n",
      "\n",
      "/anaconda3/lib/python3.6/site-packages/IPython/core/interactiveshell.py:2963: DtypeWarning:\n",
      "\n",
      "Columns (61,62,94) have mixed types. Specify dtype option on import or set low_memory=False.\n",
      "\n"
     ]
    }
   ],
   "source": [
    "import glob\n",
    "\n",
    "def clean_listing(fl):\n",
    "    df = pd.read_csv(fl)\n",
    "    df = df[['id','latitude','longitude','price']].dropna().reset_index(drop=True)\n",
    "    return df\n",
    "\n",
    "folders = sorted(glob.glob('../data/2*'))\n",
    "listdf = pd.concat([clean_listing(f+'/listings.csv') for f in folders])\n",
    "listdf.drop_duplicates(subset=['id'],keep='last',inplace=True)\n",
    "listdf['price'] = listdf['price'].apply(lambda x: x.replace('$','').replace(',','')).astype('float')"
   ]
  },
  {
   "cell_type": "code",
   "execution_count": 4,
   "metadata": {
    "ExecuteTime": {
     "end_time": "2019-06-16T05:30:49.573323Z",
     "start_time": "2019-06-16T05:30:46.843865Z"
    }
   },
   "outputs": [
    {
     "data": {
      "text/html": [
       "<iframe id=\"igraph\" scrolling=\"no\" style=\"border:none;\" seamless=\"seamless\" src=\"https://plot.ly/~hengjiwang/9.embed\" height=\"700px\" width=\"550px\"></iframe>"
      ],
      "text/plain": [
       "<chart_studio.tools.PlotlyDisplay object>"
      ]
     },
     "execution_count": 4,
     "metadata": {},
     "output_type": "execute_result"
    }
   ],
   "source": [
    "mapbox_access_token = 'pk.eyJ1IjoiaGVuZ2ppd2FuZyIsImEiOiJjanY3ZnZpaWswZmpiM3lxcHU1dW9xeDd4In0.NgpPwUWAhFc2Mp-qUEmEiA'\n",
    "data = [\n",
    "\n",
    "    go.Scattermapbox(\n",
    "        lat=listdf['latitude'].values,\n",
    "        lon=listdf['longitude'].values,\n",
    "        mode='markers',\n",
    "        marker=go.scattermapbox.Marker(\n",
    "            size=4,\n",
    "            colorscale = 'Jet',\n",
    "            # color = 'rgb(255,0,0)',\n",
    "            #color = listdf['price'],\n",
    "            cmin = 2.5,\n",
    "            cmax = 6.5,\n",
    "            color = np.log(listdf['price']+1),\n",
    "            opacity = 0.6,\n",
    "            colorbar = dict(\n",
    "            thickness = 10,\n",
    "            titleside = \"right\",\n",
    "            outlinecolor = \"rgba(68, 68, 68, 0)\",\n",
    "            ticks = \"outside\",\n",
    "            ticklen = 3,            \n",
    "            showticksuffix = \"last\",\n",
    "            ticksuffix = \"log of price\",\n",
    "            dtick = 0.5)\n",
    "        )),\n",
    "]\n",
    "\n",
    "layout = go.Layout(\n",
    "    autosize=True,\n",
    "    title='Seattle Airbnb Price',\n",
    "    width=550,\n",
    "    height=700,\n",
    "    hovermode='closest',\n",
    "    mapbox=go.layout.Mapbox(\n",
    "        accesstoken=mapbox_access_token,\n",
    "        bearing=0,\n",
    "        center=go.layout.mapbox.Center(\n",
    "            lat=47.6,\n",
    "            lon=-122.3\n",
    "        ),\n",
    "        pitch=0,\n",
    "        zoom=10,\n",
    "        style='light'\n",
    "    ),\n",
    ")\n",
    "\n",
    "fig = go.Figure(data=data, layout=layout)\n",
    "py.iplot(fig, filename='Multiple Mapbox')"
   ]
  },
  {
   "cell_type": "code",
   "execution_count": null,
   "metadata": {},
   "outputs": [],
   "source": []
  }
 ],
 "metadata": {
  "kernelspec": {
   "display_name": "Python 3",
   "language": "python",
   "name": "python3"
  },
  "language_info": {
   "codemirror_mode": {
    "name": "ipython",
    "version": 3
   },
   "file_extension": ".py",
   "mimetype": "text/x-python",
   "name": "python",
   "nbconvert_exporter": "python",
   "pygments_lexer": "ipython3",
   "version": "3.6.8"
  },
  "varInspector": {
   "cols": {
    "lenName": 16,
    "lenType": 16,
    "lenVar": 40
   },
   "kernels_config": {
    "python": {
     "delete_cmd_postfix": "",
     "delete_cmd_prefix": "del ",
     "library": "var_list.py",
     "varRefreshCmd": "print(var_dic_list())"
    },
    "r": {
     "delete_cmd_postfix": ") ",
     "delete_cmd_prefix": "rm(",
     "library": "var_list.r",
     "varRefreshCmd": "cat(var_dic_list()) "
    }
   },
   "types_to_exclude": [
    "module",
    "function",
    "builtin_function_or_method",
    "instance",
    "_Feature"
   ],
   "window_display": false
  }
 },
 "nbformat": 4,
 "nbformat_minor": 2
}
