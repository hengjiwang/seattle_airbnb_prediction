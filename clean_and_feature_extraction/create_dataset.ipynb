{
 "cells": [
  {
   "cell_type": "markdown",
   "metadata": {},
   "source": [
    "# Create dataset"
   ]
  },
  {
   "cell_type": "code",
   "execution_count": 1,
   "metadata": {},
   "outputs": [],
   "source": [
    "import pandas as pd\n",
    "import os\n",
    "from python.listingspreprocessing import ListingsPreprocessing\n",
    "from python.reviewspreprocessing import ReviewsPreprocessing\n",
    "from python.datepreprocessing import DatePreprocessing"
   ]
  },
  {
   "cell_type": "code",
   "execution_count": 2,
   "metadata": {},
   "outputs": [],
   "source": [
    "def merge_listings(folders):\n",
    "    \n",
    "    l = ListingsPreprocessing('../data/'+folders[0]+'/listings.csv').do_preprocessing('clean')\n",
    "    \n",
    "    for f in folders[1:]:\n",
    "        l_new = ListingsPreprocessing('../data/'+f+'/listings.csv').do_preprocessing('clean')\n",
    "        l = pd.concat([l, l_new],ignore_index=True)\n",
    "    \n",
    "    l.drop_duplicates(subset='id', keep='last', inplace=True)\n",
    "    l.sort_values(by = 'id', inplace = True)\n",
    "        \n",
    "    return l\n",
    "\n",
    "folders = [x for x in os.listdir('../data/')]\n",
    "l_merged = merge_listings(folders).reset_index(drop = True)"
   ]
  },
  {
   "cell_type": "code",
   "execution_count": 6,
   "metadata": {},
   "outputs": [],
   "source": [
    "def merge_reviews(folders):\n",
    "    \n",
    "\n",
    "    r = ReviewsPreprocessing('../data/'+folders[0]+'/reviews.csv').do_preprocessing('clean')\n",
    "    \n",
    "    for f in folders[1:]:\n",
    "        r_new = ReviewsPreprocessing('../data/'+f+'/reviews.csv').do_preprocessing('clean')\n",
    "        r = pd.concat([r, r_new],ignore_index=True)\n",
    "    \n",
    "    r.drop_duplicates(keep='last', inplace=True)\n",
    "    r['comments'] = r['comments'].astype(str)\n",
    "    r = r.groupby(by='listing_id')['comments'].sum().reset_index()\n",
    "    r.sort_values(by = 'listing_id', inplace = True)\n",
    "        \n",
    "    return r\n",
    "\n",
    "folders = [x for x in os.listdir('../data/')]\n",
    "r_merged = merge_reviews(folders).reset_index(drop = True)"
   ]
  },
  {
   "cell_type": "code",
   "execution_count": 7,
   "metadata": {},
   "outputs": [],
   "source": [
    "def merge_calendars(folders):\n",
    "    \n",
    "    def clean_calendar(fl):\n",
    "        df = pd.read_csv(fl).dropna().drop(columns='available').reset_index(drop=True)\n",
    "        df = df[['listing_id','date','price']] #only keep these three columns\n",
    "        df['price'] =  df['price'].apply(lambda x: x.replace('$','').replace(',','')).astype('float')   \n",
    "        df['date'] = pd.to_datetime(df['date'])\n",
    "        return df\n",
    "    \n",
    "    df = clean_calendar('../data/'+folders[0]+'/calendar.csv')\n",
    "    for f in folders[1:]:\n",
    "        df = pd.concat([df,clean_calendar('../data/'+f+'/calendar.csv')],ignore_index=True)\n",
    "    df = df.groupby(by=['listing_id','date'])['price'].max().reset_index()\n",
    "    return df\n",
    "\n",
    "folders = [x for x in os.listdir('../data/')]\n",
    "d_merged = merge_calendars(folders)"
   ]
  },
  {
   "cell_type": "code",
   "execution_count": 10,
   "metadata": {},
   "outputs": [],
   "source": [
    "r_extracted = ReviewsPreprocessing('').extract_feature(r_merged, merged=True)\n",
    "\n",
    "l_extracted = ListingsPreprocessing('').extract_feature(l_merged)\n",
    "\n",
    "d_extracted = DatePreprocessing('').extract_feature(d_merged)"
   ]
  },
  {
   "cell_type": "code",
   "execution_count": 11,
   "metadata": {},
   "outputs": [],
   "source": [
    "data = pd.merge(l_extracted, r_extracted,\n",
    "        left_on='id',right_on='listing_id',\n",
    "        how='inner').drop(columns = 'listing_id')\n",
    "\n",
    "data = pd.merge(data.drop(columns='price'),\n",
    "            d_extracted,left_on='id',right_on='listing_id',\n",
    "            how='inner').drop(columns = 'listing_id')"
   ]
  },
  {
   "cell_type": "code",
   "execution_count": 18,
   "metadata": {},
   "outputs": [],
   "source": [
    "data.to_csv('../save/all_data.csv', index=False)"
   ]
  },
  {
   "cell_type": "code",
   "execution_count": null,
   "metadata": {},
   "outputs": [],
   "source": []
  }
 ],
 "metadata": {
  "kernelspec": {
   "display_name": "Python 3",
   "language": "python",
   "name": "python3"
  },
  "language_info": {
   "codemirror_mode": {
    "name": "ipython",
    "version": 3
   },
   "file_extension": ".py",
   "mimetype": "text/x-python",
   "name": "python",
   "nbconvert_exporter": "python",
   "pygments_lexer": "ipython3",
   "version": "3.7.3"
  }
 },
 "nbformat": 4,
 "nbformat_minor": 2
}
