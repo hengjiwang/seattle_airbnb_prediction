{
 "cells": [
  {
   "cell_type": "markdown",
   "metadata": {},
   "source": [
    "# Combine datasets together"
   ]
  },
  {
   "cell_type": "code",
   "execution_count": 1,
   "metadata": {
    "ExecuteTime": {
     "end_time": "2019-05-02T05:57:16.073083Z",
     "start_time": "2019-05-02T05:57:10.035593Z"
    }
   },
   "outputs": [],
   "source": [
    "import pandas as pd\n",
    "from listingsPreprocessing import listingsPreprocessing\n",
    "from reviewsPreprocessing import reviewsPreprocessing"
   ]
  },
  {
   "cell_type": "code",
   "execution_count": 23,
   "metadata": {
    "ExecuteTime": {
     "end_time": "2019-05-02T05:56:16.971859Z",
     "start_time": "2019-05-02T05:56:16.730999Z"
    }
   },
   "outputs": [],
   "source": [
    "listings = pd.read_csv('../save/listings.csv').drop(columns = ['Unnamed: 0'])\n",
    "reviews = pd.read_csv('../save/reviews.csv').drop(columns = ['Unnamed: 0'])"
   ]
  },
  {
   "cell_type": "code",
   "execution_count": 37,
   "metadata": {
    "ExecuteTime": {
     "end_time": "2019-05-02T04:05:36.243902Z",
     "start_time": "2019-05-02T04:05:25.397215Z"
    },
    "scrolled": true
   },
   "outputs": [],
   "source": [
    "for i in range(len(listings)):\n",
    "    idd = int(listings.iloc[i].id)\n",
    "    if idd in reviews.listing_id.tolist():\n",
    "        listings.loc[i, 'polarity'] = float(reviews[reviews.listing_id == idd].polarity)\n",
    "        listings.loc[i, 'subjectivity'] = float(reviews[reviews.listing_id == idd].subjectivity)"
   ]
  },
  {
   "cell_type": "code",
   "execution_count": 38,
   "metadata": {
    "ExecuteTime": {
     "end_time": "2019-05-02T04:05:37.053147Z",
     "start_time": "2019-05-02T04:05:36.388199Z"
    }
   },
   "outputs": [],
   "source": [
    "listings.to_csv('../save/final_data.csv')"
   ]
  }
 ],
 "metadata": {
  "kernelspec": {
   "display_name": "Python 3",
   "language": "python",
   "name": "python3"
  },
  "language_info": {
   "codemirror_mode": {
    "name": "ipython",
    "version": 3
   },
   "file_extension": ".py",
   "mimetype": "text/x-python",
   "name": "python",
   "nbconvert_exporter": "python",
   "pygments_lexer": "ipython3",
   "version": "3.7.3"
  },
  "latex_envs": {
   "LaTeX_envs_menu_present": true,
   "autoclose": false,
   "autocomplete": true,
   "bibliofile": "biblio.bib",
   "cite_by": "apalike",
   "current_citInitial": 1,
   "eqLabelWithNumbers": true,
   "eqNumInitial": 1,
   "hotkeys": {
    "equation": "Ctrl-E",
    "itemize": "Ctrl-I"
   },
   "labels_anchors": false,
   "latex_user_defs": false,
   "report_style_numbering": false,
   "user_envs_cfg": false
  },
  "varInspector": {
   "cols": {
    "lenName": 16,
    "lenType": 16,
    "lenVar": 40
   },
   "kernels_config": {
    "python": {
     "delete_cmd_postfix": "",
     "delete_cmd_prefix": "del ",
     "library": "var_list.py",
     "varRefreshCmd": "print(var_dic_list())"
    },
    "r": {
     "delete_cmd_postfix": ") ",
     "delete_cmd_prefix": "rm(",
     "library": "var_list.r",
     "varRefreshCmd": "cat(var_dic_list()) "
    }
   },
   "types_to_exclude": [
    "module",
    "function",
    "builtin_function_or_method",
    "instance",
    "_Feature"
   ],
   "window_display": false
  }
 },
 "nbformat": 4,
 "nbformat_minor": 2
}
