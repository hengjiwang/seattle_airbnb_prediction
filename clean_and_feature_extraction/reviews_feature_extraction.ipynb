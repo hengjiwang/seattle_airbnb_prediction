{
 "cells": [
  {
   "cell_type": "markdown",
   "metadata": {},
   "source": [
    "# 2. Reviews Preprocessing"
   ]
  },
  {
   "cell_type": "code",
   "execution_count": 1,
   "metadata": {
    "ExecuteTime": {
     "end_time": "2019-05-02T00:39:26.235781Z",
     "start_time": "2019-05-02T00:39:26.163097Z"
    }
   },
   "outputs": [],
   "source": [
    "import numpy as np\n",
    "import pandas as pd\n",
    "import textblob\n",
    "import matplotlib.pyplot as plt\n",
    "from multiprocessing import Pool"
   ]
  },
  {
   "cell_type": "markdown",
   "metadata": {},
   "source": [
    "## 2.1 Touch and clean data"
   ]
  },
  {
   "cell_type": "markdown",
   "metadata": {},
   "source": [
    "### Load review data"
   ]
  },
  {
   "cell_type": "code",
   "execution_count": 2,
   "metadata": {
    "ExecuteTime": {
     "end_time": "2019-05-01T23:55:20.735885Z",
     "start_time": "2019-05-01T23:55:19.964393Z"
    }
   },
   "outputs": [],
   "source": [
    "raw_reviews = pd.read_csv('../data/2018_04_14/reviews.csv')"
   ]
  },
  {
   "cell_type": "markdown",
   "metadata": {
    "ExecuteTime": {
     "end_time": "2019-05-01T22:00:30.416527Z",
     "start_time": "2019-05-01T22:00:30.397139Z"
    }
   },
   "source": [
    "### Show attributes"
   ]
  },
  {
   "cell_type": "code",
   "execution_count": 3,
   "metadata": {
    "ExecuteTime": {
     "end_time": "2019-05-01T23:55:20.850432Z",
     "start_time": "2019-05-01T23:55:20.847575Z"
    }
   },
   "outputs": [
    {
     "name": "stdout",
     "output_type": "stream",
     "text": [
      "(0, 'listing_id')\n",
      "(1, 'id')\n",
      "(2, 'date')\n",
      "(3, 'reviewer_id')\n",
      "(4, 'reviewer_name')\n",
      "(5, 'comments')\n"
     ]
    }
   ],
   "source": [
    "attributes = [(i, raw_reviews.columns[i]) for i in range(len(raw_reviews.columns))]\n",
    "for j in range(len(attributes)): print(attributes[j])"
   ]
  },
  {
   "cell_type": "markdown",
   "metadata": {},
   "source": [
    "### Prune useless attributes"
   ]
  },
  {
   "cell_type": "code",
   "execution_count": 4,
   "metadata": {
    "ExecuteTime": {
     "end_time": "2019-05-02T00:34:59.303445Z",
     "start_time": "2019-05-02T00:34:59.296020Z"
    }
   },
   "outputs": [],
   "source": [
    "reviews = raw_reviews.drop(['id', 'date', 'reviewer_id', 'reviewer_name'], axis=1)"
   ]
  },
  {
   "cell_type": "markdown",
   "metadata": {},
   "source": [
    "## 2.2 Sentimental analysis"
   ]
  },
  {
   "cell_type": "markdown",
   "metadata": {},
   "source": [
    "### Method A. Combine and compute"
   ]
  },
  {
   "cell_type": "code",
   "execution_count": 5,
   "metadata": {
    "ExecuteTime": {
     "end_time": "2019-05-02T00:35:00.402362Z",
     "start_time": "2019-05-02T00:35:00.374869Z"
    }
   },
   "outputs": [],
   "source": [
    "ids = list(np.unique(reviews.listing_id.tolist()))\n",
    "\n",
    "reviews['comments'] = reviews['comments'].astype(str)\n",
    "reviews = reviews.groupby(by='listing_id')['comments'].sum().reset_index()\n",
    "\n",
    "reviews['sentiments'] = reviews.comments.apply(lambda x: textblob.TextBlob(x).sentiment)\n",
    "\n",
    "reviews[['polarity', 'subjectivity']] = reviews.sentiments.apply(pd.Series)\n",
    "reviews_a = reviews.drop(columns=['comments', 'sentiments'])"
   ]
  },
  {
   "cell_type": "markdown",
   "metadata": {
    "ExecuteTime": {
     "end_time": "2019-05-02T00:02:08.040907Z",
     "start_time": "2019-05-02T00:02:08.037340Z"
    }
   },
   "source": [
    "### Method B. Compute and average"
   ]
  },
  {
   "cell_type": "code",
   "execution_count": null,
   "metadata": {
    "ExecuteTime": {
     "end_time": "2019-05-02T00:20:57.307949Z",
     "start_time": "2019-05-02T00:18:39.746951Z"
    }
   },
   "outputs": [],
   "source": [
    "reviews['sentiments'] = reviews.comments.apply(lambda x: textblob.TextBlob(str(x)).sentiment)"
   ]
  },
  {
   "cell_type": "code",
   "execution_count": null,
   "metadata": {
    "ExecuteTime": {
     "end_time": "2019-05-02T00:21:40.843578Z",
     "start_time": "2019-05-02T00:20:57.558460Z"
    }
   },
   "outputs": [],
   "source": [
    "reviews[['polarity', 'subjectivity']] = reviews.sentiments.apply(pd.Series)\n",
    "reviews = reviews.drop(columns=['comments', 'sentiments'])"
   ]
  },
  {
   "cell_type": "code",
   "execution_count": null,
   "metadata": {
    "ExecuteTime": {
     "end_time": "2019-05-02T00:24:12.323450Z",
     "start_time": "2019-05-02T00:24:12.314776Z"
    }
   },
   "outputs": [],
   "source": [
    "cmb_listing_id = reviews.groupby(['listing_id'])['listing_id'].mean()\n",
    "cmb_polarity = reviews.groupby(['listing_id'])['polarity'].mean()\n",
    "cmb_subjectivity = reviews.groupby(['listing_id'])['subjectivity'].mean()"
   ]
  },
  {
   "cell_type": "code",
   "execution_count": 86,
   "metadata": {
    "ExecuteTime": {
     "end_time": "2019-05-02T00:34:46.704948Z",
     "start_time": "2019-05-02T00:34:46.568014Z"
    },
    "scrolled": true
   },
   "outputs": [],
   "source": [
    "reviews_b = pd.DataFrame(data = [[cmb_listing_id.iloc[i], cmb_polarity.iloc[i], cmb_subjectivity.iloc[i]] for i in range(len(cmb_polarity))], columns = ['listing_id', 'polarity', 'subjectivity'])"
   ]
  },
  {
   "cell_type": "code",
   "execution_count": 105,
   "metadata": {
    "ExecuteTime": {
     "end_time": "2019-05-02T00:41:37.927778Z",
     "start_time": "2019-05-02T00:41:37.825836Z"
    }
   },
   "outputs": [
    {
     "data": {
      "image/png": "[encoded data removed]",
      "text/plain": [
       "<Figure size 432x288 with 1 Axes>"
      ]
     },
     "metadata": {},
     "output_type": "display_data"
    }
   ],
   "source": [
    "plt.figure()\n",
    "plt.plot(reviews_a['polarity'], reviews_b['polarity'], 'bo')\n",
    "plt.xlabel('polarity of method A')\n",
    "plt.ylabel('polarity of method B')\n",
    "plt.show()"
   ]
  },
  {
   "cell_type": "markdown",
   "metadata": {},
   "source": [
    "## 2.3 Save reviews"
   ]
  },
  {
   "cell_type": "code",
   "execution_count": 106,
   "metadata": {
    "ExecuteTime": {
     "end_time": "2019-05-02T00:42:38.412208Z",
     "start_time": "2019-05-02T00:42:38.356823Z"
    }
   },
   "outputs": [],
   "source": [
    "reviews_b.to_csv('../save/reviews.csv')"
   ]
  }
 ],
 "metadata": {
  "kernelspec": {
   "display_name": "Python 3",
   "language": "python",
   "name": "python3"
  },
  "language_info": {
   "codemirror_mode": {
    "name": "ipython",
    "version": 3
   },
   "file_extension": ".py",
   "mimetype": "text/x-python",
   "name": "python",
   "nbconvert_exporter": "python",
   "pygments_lexer": "ipython3",
   "version": "3.6.8"
  },
  "latex_envs": {
   "LaTeX_envs_menu_present": true,
   "autoclose": false,
   "autocomplete": true,
   "bibliofile": "biblio.bib",
   "cite_by": "apalike",
   "current_citInitial": 1,
   "eqLabelWithNumbers": true,
   "eqNumInitial": 1,
   "hotkeys": {
    "equation": "Ctrl-E",
    "itemize": "Ctrl-I"
   },
   "labels_anchors": false,
   "latex_user_defs": false,
   "report_style_numbering": false,
   "user_envs_cfg": false
  },
  "nbdime-conflicts": {
   "local_diff": [
    {
     "diff": [
      {
       "diff": [
        {
         "key": 0,
         "length": 1,
         "op": "removerange"
        }
       ],
       "key": "version",
       "op": "patch"
      }
     ],
     "key": "language_info",
     "op": "patch"
    }
   ],
   "remote_diff": [
    {
     "diff": [
      {
       "diff": [
        {
         "diff": [
          {
           "key": 4,
           "op": "addrange",
           "valuelist": "8"
          },
          {
           "key": 4,
           "length": 1,
           "op": "removerange"
          }
         ],
         "key": 0,
         "op": "patch"
        }
       ],
       "key": "version",
       "op": "patch"
      }
     ],
     "key": "language_info",
     "op": "patch"
    }
   ]
  },
  "varInspector": {
   "cols": {
    "lenName": 16,
    "lenType": 16,
    "lenVar": 40
   },
   "kernels_config": {
    "python": {
     "delete_cmd_postfix": "",
     "delete_cmd_prefix": "del ",
     "library": "var_list.py",
     "varRefreshCmd": "print(var_dic_list())"
    },
    "r": {
     "delete_cmd_postfix": ") ",
     "delete_cmd_prefix": "rm(",
     "library": "var_list.r",
     "varRefreshCmd": "cat(var_dic_list()) "
    }
   },
   "types_to_exclude": [
    "module",
    "function",
    "builtin_function_or_method",
    "instance",
    "_Feature"
   ],
   "window_display": false
  }
 },
 "nbformat": 4,
 "nbformat_minor": 2
}
