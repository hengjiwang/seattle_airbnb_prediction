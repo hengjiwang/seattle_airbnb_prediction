{
 "cells": [
  {
   "cell_type": "code",
   "execution_count": 1,
   "metadata": {
    "ExecuteTime": {
     "end_time": "2019-05-06T00:47:17.291273Z",
     "start_time": "2019-05-06T00:43:22.427738Z"
    }
   },
   "outputs": [],
   "source": [
    "from createDataSet import createDataSet \n",
    "data = createDataSet('../data/2018_04_14/listings.csv','../data/2018_04_14/reviews.csv').create()"
   ]
  },
  {
   "cell_type": "code",
   "execution_count": 274,
   "metadata": {
    "ExecuteTime": {
     "end_time": "2019-05-06T07:21:23.941200Z",
     "start_time": "2019-05-06T07:21:23.924253Z"
    }
   },
   "outputs": [],
   "source": [
    "from calendar_clean_exploration import clean_calendar\n",
    "import datetime,calendar\n",
    "import pandas as pd"
   ]
  },
  {
   "cell_type": "code",
   "execution_count": 262,
   "metadata": {
    "ExecuteTime": {
     "end_time": "2019-05-06T06:32:57.562704Z",
     "start_time": "2019-05-06T06:32:57.555686Z"
    }
   },
   "outputs": [],
   "source": [
    "def holiday(year):\n",
    "    #fixed holidays\n",
    "    fixmd = [[1,1],[7,4],[11,11]]\n",
    "    holidays = [datetime.datetime(year,x[0],x[1]) for x in fixmd]\n",
    "    #floating holidays\n",
    "    #'2,3,1': the third Monday of Feburary;'5,-1,1': the last Monday of May \n",
    "    floatmwd = ['1,3,1','2,3,1','5,-1,1','9,1,1','10,2,1','11,4,4']\n",
    "    holidays.extend([flholiday(year,x) for x in floatmwd])\n",
    "    return sorted(holidays)\n",
    "    \n",
    "def flholiday(y,mwd):\n",
    "    #input year and month-week-weekday\n",
    "    m,w,d = list(map(int,mwd.split(',')))\n",
    "    d = d-1\n",
    "    wday, mrange = calendar.monthrange(y, m) #firstDayWeekDay,monthRange\n",
    "    if w>0:\n",
    "        if wday<=d:\n",
    "            day = 1+7*(w-1)+d-wday\n",
    "        else:\n",
    "            day = 1+7*w-(wday-d)\n",
    "    else:\n",
    "        wday = datetime.datetime(y,m,mrange).weekday()\n",
    "        if d<=wday:\n",
    "            day = mrange+7*(w+1)-(wday-d)\n",
    "        else:\n",
    "            day = mrange+7*w+(d-wday)\n",
    "    return datetime.datetime(y,m,day)           "
   ]
  },
  {
   "cell_type": "code",
   "execution_count": 275,
   "metadata": {
    "ExecuteTime": {
     "end_time": "2019-05-06T07:21:53.715449Z",
     "start_time": "2019-05-06T07:21:50.940385Z"
    },
    "scrolled": true
   },
   "outputs": [],
   "source": [
    "df = clean_calendar('../data/2018_04_14/calendar.csv')\n",
    "#return 0-6, stands for Mon to Sun\n",
    "df['week'] = df.date.dt.dayofweek"
   ]
  },
  {
   "cell_type": "code",
   "execution_count": 223,
   "metadata": {
    "ExecuteTime": {
     "end_time": "2019-05-06T06:11:19.205369Z",
     "start_time": "2019-05-06T06:11:17.685953Z"
    }
   },
   "outputs": [],
   "source": [
    "mergedata = pd.merge(data.drop(columns='price'),df,left_on='id',right_on='listing_id',how='inner').drop(columns = 'listing_id')"
   ]
  },
  {
   "cell_type": "code",
   "execution_count": 238,
   "metadata": {
    "ExecuteTime": {
     "end_time": "2019-05-06T06:16:40.553431Z",
     "start_time": "2019-05-06T06:16:40.388235Z"
    }
   },
   "outputs": [],
   "source": [
    "#day of week\n",
    "week = ['Mon','Tue','Wed','Thu','Fri','Sat','Sun']\n",
    "for i,w in enumerate(week):\n",
    "    mergedata[w]=False\n",
    "    mergedata.loc[mergedata['week']==i,w]=True"
   ]
  },
  {
   "cell_type": "code",
   "execution_count": 240,
   "metadata": {
    "ExecuteTime": {
     "end_time": "2019-05-06T06:18:42.146062Z",
     "start_time": "2019-05-06T06:18:41.209246Z"
    }
   },
   "outputs": [],
   "source": [
    "#which month\n",
    "month = ['Jan','Feb','Mar','Apr','May','Jun','Jul','Aug','Sep','Oct','Nov','Dec']\n",
    "for i,m in enumerate(month):\n",
    "    mergedata[m]=False\n",
    "    mergedata.loc[mergedata.date.dt.month==i+1,m]=True"
   ]
  },
  {
   "cell_type": "code",
   "execution_count": 243,
   "metadata": {
    "ExecuteTime": {
     "end_time": "2019-05-06T06:21:43.215591Z",
     "start_time": "2019-05-06T06:21:43.023960Z"
    }
   },
   "outputs": [],
   "source": [
    "#which year\n",
    "year = [2018,2019]\n",
    "for y in year:\n",
    "    mergedata[y]=False\n",
    "    mergedata.loc[mergedata.date.dt.year==y,y]=True"
   ]
  },
  {
   "cell_type": "code",
   "execution_count": 257,
   "metadata": {
    "ExecuteTime": {
     "end_time": "2019-05-06T06:30:34.409409Z",
     "start_time": "2019-05-06T06:30:34.268727Z"
    }
   },
   "outputs": [],
   "source": [
    "#christams holidays: 12/25-12/31\n",
    "mergedata['ChristmasHolidays']=False\n",
    "mergedata.loc[(mergedata.date.dt.month==12) & (mergedata.date.dt.day>=25),'ChristmasHolidays']=True"
   ]
  },
  {
   "cell_type": "code",
   "execution_count": 267,
   "metadata": {
    "ExecuteTime": {
     "end_time": "2019-05-06T06:42:50.652088Z",
     "start_time": "2019-05-06T06:42:49.720890Z"
    }
   },
   "outputs": [],
   "source": [
    "#other holidays\n",
    "holidays = ['NewYear','MartinLK','President','Memorial','Independence','Labor','Columbus','Veterans','Thanksgiving']\n",
    "holiday18 = holiday(2018)\n",
    "holiday19 = holiday(2019)\n",
    "for i,h in enumerate(holidays):\n",
    "    mergedata[h]=False\n",
    "    mergedata.loc[mergedata.date==holiday18[i],h]=True\n",
    "    mergedata.loc[mergedata.date==holiday19[i],h]=True\n",
    "    "
   ]
  },
  {
   "cell_type": "code",
   "execution_count": 276,
   "metadata": {
    "ExecuteTime": {
     "end_time": "2019-05-06T07:23:59.553547Z",
     "start_time": "2019-05-06T07:23:59.166442Z"
    },
    "scrolled": true
   },
   "outputs": [],
   "source": [
    "mergedata.drop(columns=['week','date'],inplace=True)"
   ]
  },
  {
   "cell_type": "code",
   "execution_count": null,
   "metadata": {},
   "outputs": [],
   "source": []
  }
 ],
 "metadata": {
  "kernelspec": {
   "display_name": "Python 3",
   "language": "python",
   "name": "python3"
  },
  "language_info": {
   "codemirror_mode": {
    "name": "ipython",
    "version": 3
   },
   "file_extension": ".py",
   "mimetype": "text/x-python",
   "name": "python",
   "nbconvert_exporter": "python",
   "pygments_lexer": "ipython3",
   "version": "3.7.3"
  },
  "latex_envs": {
   "LaTeX_envs_menu_present": true,
   "autoclose": false,
   "autocomplete": true,
   "bibliofile": "biblio.bib",
   "cite_by": "apalike",
   "current_citInitial": 1,
   "eqLabelWithNumbers": true,
   "eqNumInitial": 1,
   "hotkeys": {
    "equation": "Ctrl-E",
    "itemize": "Ctrl-I"
   },
   "labels_anchors": false,
   "latex_user_defs": false,
   "report_style_numbering": false,
   "user_envs_cfg": false
  },
  "varInspector": {
   "cols": {
    "lenName": 16,
    "lenType": 16,
    "lenVar": 40
   },
   "kernels_config": {
    "python": {
     "delete_cmd_postfix": "",
     "delete_cmd_prefix": "del ",
     "library": "var_list.py",
     "varRefreshCmd": "print(var_dic_list())"
    },
    "r": {
     "delete_cmd_postfix": ") ",
     "delete_cmd_prefix": "rm(",
     "library": "var_list.r",
     "varRefreshCmd": "cat(var_dic_list()) "
    }
   },
   "types_to_exclude": [
    "module",
    "function",
    "builtin_function_or_method",
    "instance",
    "_Feature"
   ],
   "window_display": false
  }
 },
 "nbformat": 4,
 "nbformat_minor": 2
}
